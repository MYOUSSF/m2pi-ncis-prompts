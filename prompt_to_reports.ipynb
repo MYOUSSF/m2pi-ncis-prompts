{
  "cells": [
    {
      "cell_type": "markdown",
      "metadata": {
        "id": "vIwBQ9PVhJfG"
      },
      "source": [
        "# Prompt to Incident Reports Pipeline\n",
        "\n",
        "We combine the SerpApi and Selenium WebDriver functionality to create an efficient pipeline for retrieving incident reports from a search engine prompt. We first set up a SerpApi client for retrieving search results."
      ]
    },
    {
      "cell_type": "code",
      "execution_count": null,
      "metadata": {
        "id": "0p7s_jyMhJfI"
      },
      "outputs": [],
      "source": [
        "import serpapi\n",
        "from ncisKey import ncis_serp_key       # This is a local file containing the NCIS SerpApi key\n",
        "\n",
        "api_key = ncis_serp_key()\n",
        "client = serpapi.Client(api_key=api_key)"
      ]
    },
    {
      "cell_type": "markdown",
      "metadata": {
        "id": "DtiB11P3hJfJ"
      },
      "source": [
        "The SerpApi client returns the results of search as a JSON. When using the standard Google engine, the first page of results is contained in the `organic_results` entry. The `organic_results` is a list of dictionaries, each corresponding to a search result, which contain a result's position, title, and link, among other information. Another entry of interest in the result returned by SerpApi is the `related_questions` which contains all of Google's suggested related searches - perhaps this could be used to generate further prompts of interest?\n",
        "\n",
        "When using the Google News engine, the results are contained in the `news_results` entry of the JSON. Again, `news_results` is a list of dictionaries, each corresponding to a search result, which contain a result's position, title, and link. The `news_results` also contains authorship and publication date information. Unlike the standard Google engine, the Google news engine returns *all* results of the search, not just the first page."
      ]
    },
    {
      "cell_type": "code",
      "execution_count": null,
      "metadata": {
        "id": "6a0WvoZXhJfJ"
      },
      "outputs": [],
      "source": [
        "results = client.search(\n",
        "\tq='vessel caught underreporting catch',\t\t\t# One pro of using SerpApi is that it is very easy to specify what search engine to use.\n",
        "\tengine=\"google_news\",\t\t\t\t\t\t\t# Here we are specifically using the Google News.\n",
        "\thl=\"en\",\t\t\t\t\t\t\t\t\t\t# We can also specify what language the results should be in\n",
        "\tgl=\"us\",\t\t\t\t\t\t\t\t\t\t# and the location from which results should be generated.\n",
        ")"
      ]
    },
    {
      "cell_type": "code",
      "execution_count": null,
      "metadata": {
        "colab": {
          "base_uri": "https://localhost:8080/"
        },
        "id": "ImJ77JqshJfJ",
        "outputId": "7ad83224-c49c-4785-cb28-f6fbe295ddee"
      },
      "outputs": [
        {
          "output_type": "execute_result",
          "data": {
            "text/plain": [
              "str"
            ]
          },
          "metadata": {},
          "execution_count": 4
        }
      ],
      "source": [
        "type(results['news_results'][0]['link'])"
      ]
    },
    {
      "cell_type": "markdown",
      "metadata": {
        "id": "s0UjX0GJhJfK"
      },
      "source": [
        "We now setup our web scraping framework using Selenium. For details, see [`web-scraper.ipynb`](https://github.com/j4ck-k/m2pi-ncis-prompts/blob/main/web-scraper.ipynb)."
      ]
    },
    {
      "cell_type": "code",
      "source": [
        "!pip install selenium"
      ],
      "metadata": {
        "colab": {
          "base_uri": "https://localhost:8080/"
        },
        "id": "pGs8axRWibpV",
        "outputId": "e8c2e894-48e8-479d-917d-c5b47ee5a638"
      },
      "execution_count": null,
      "outputs": [
        {
          "output_type": "stream",
          "name": "stdout",
          "text": [
            "Collecting selenium\n",
            "  Downloading selenium-4.21.0-py3-none-any.whl (9.5 MB)\n",
            "\u001b[2K     \u001b[90m━━━━━━━━━━━━━━━━━━━━━━━━━━━━━━━━━━━━━━━━\u001b[0m \u001b[32m9.5/9.5 MB\u001b[0m \u001b[31m47.8 MB/s\u001b[0m eta \u001b[36m0:00:00\u001b[0m\n",
            "\u001b[?25hRequirement already satisfied: urllib3[socks]<3,>=1.26 in /usr/local/lib/python3.10/dist-packages (from selenium) (2.0.7)\n",
            "Collecting trio~=0.17 (from selenium)\n",
            "  Downloading trio-0.25.1-py3-none-any.whl (467 kB)\n",
            "\u001b[2K     \u001b[90m━━━━━━━━━━━━━━━━━━━━━━━━━━━━━━━━━━━━━━━━\u001b[0m \u001b[32m467.7/467.7 kB\u001b[0m \u001b[31m35.1 MB/s\u001b[0m eta \u001b[36m0:00:00\u001b[0m\n",
            "\u001b[?25hCollecting trio-websocket~=0.9 (from selenium)\n",
            "  Downloading trio_websocket-0.11.1-py3-none-any.whl (17 kB)\n",
            "Requirement already satisfied: certifi>=2021.10.8 in /usr/local/lib/python3.10/dist-packages (from selenium) (2024.6.2)\n",
            "Requirement already satisfied: typing_extensions>=4.9.0 in /usr/local/lib/python3.10/dist-packages (from selenium) (4.12.2)\n",
            "Requirement already satisfied: attrs>=23.2.0 in /usr/local/lib/python3.10/dist-packages (from trio~=0.17->selenium) (23.2.0)\n",
            "Requirement already satisfied: sortedcontainers in /usr/local/lib/python3.10/dist-packages (from trio~=0.17->selenium) (2.4.0)\n",
            "Requirement already satisfied: idna in /usr/local/lib/python3.10/dist-packages (from trio~=0.17->selenium) (3.7)\n",
            "Collecting outcome (from trio~=0.17->selenium)\n",
            "  Downloading outcome-1.3.0.post0-py2.py3-none-any.whl (10 kB)\n",
            "Requirement already satisfied: sniffio>=1.3.0 in /usr/local/lib/python3.10/dist-packages (from trio~=0.17->selenium) (1.3.1)\n",
            "Requirement already satisfied: exceptiongroup in /usr/local/lib/python3.10/dist-packages (from trio~=0.17->selenium) (1.2.1)\n",
            "Collecting wsproto>=0.14 (from trio-websocket~=0.9->selenium)\n",
            "  Downloading wsproto-1.2.0-py3-none-any.whl (24 kB)\n",
            "Requirement already satisfied: pysocks!=1.5.7,<2.0,>=1.5.6 in /usr/local/lib/python3.10/dist-packages (from urllib3[socks]<3,>=1.26->selenium) (1.7.1)\n",
            "Collecting h11<1,>=0.9.0 (from wsproto>=0.14->trio-websocket~=0.9->selenium)\n",
            "  Downloading h11-0.14.0-py3-none-any.whl (58 kB)\n",
            "\u001b[2K     \u001b[90m━━━━━━━━━━━━━━━━━━━━━━━━━━━━━━━━━━━━━━━━\u001b[0m \u001b[32m58.3/58.3 kB\u001b[0m \u001b[31m7.8 MB/s\u001b[0m eta \u001b[36m0:00:00\u001b[0m\n",
            "\u001b[?25hInstalling collected packages: outcome, h11, wsproto, trio, trio-websocket, selenium\n",
            "Successfully installed h11-0.14.0 outcome-1.3.0.post0 selenium-4.21.0 trio-0.25.1 trio-websocket-0.11.1 wsproto-1.2.0\n"
          ]
        }
      ]
    },
    {
      "cell_type": "code",
      "execution_count": null,
      "metadata": {
        "id": "W7m0ny7qhJfK"
      },
      "outputs": [],
      "source": [
        "from bs4 import BeautifulSoup\n",
        "from selenium import webdriver\n",
        "# from selenium.webdriver.chrome.options import Options\n",
        "\n",
        "# headless background execution\n",
        "options = webdriver.ChromeOptions()\n",
        "options.add_argument(\"headless\")"
      ]
    },
    {
      "cell_type": "code",
      "execution_count": null,
      "metadata": {
        "id": "4Bxl37BHhJfK"
      },
      "outputs": [],
      "source": [
        "def get_url_text(url : str, save : str = None, file : str = None) -> str:\n",
        "    '''\n",
        "    Uses the Selenium WebDriver to scrape all text from the webpage associated to the provided url.\n",
        "\n",
        "    url : URL address for webpage to be scraped.\n",
        "    save : Optional argument for saving scraped text as a user specified file type.\n",
        "    file : Optional argument for naming file with scraped text.\n",
        "\n",
        "    Webpage text is returned as a string.\n",
        "    '''\n",
        "\n",
        "    driver = webdriver.Chrome(options=options)\n",
        "    driver.get(url)\n",
        "\n",
        "    page_soup = BeautifulSoup(driver.page_source, 'html.parser')\n",
        "    p_list = page_soup.find_all(\"p\")\n",
        "\n",
        "    text = ''\n",
        "\n",
        "    for p in p_list:\n",
        "        text += ' ' + p.get_text()\n",
        "\n",
        "    if save:\n",
        "        with open(f\"{file}.txt\", \"w\") as text_file:\n",
        "            text_file.write(text)\n",
        "\n",
        "    return text"
      ]
    },
    {
      "cell_type": "code",
      "execution_count": null,
      "metadata": {
        "colab": {
          "base_uri": "https://localhost:8080/",
          "height": 139
        },
        "id": "9FTGe4FnhJfL",
        "outputId": "3812ecb7-24b2-4965-f215-d49e94b31cb0"
      },
      "outputs": [
        {
          "output_type": "error",
          "ename": "NameError",
          "evalue": "name 'result' is not defined",
          "traceback": [
            "\u001b[0;31m---------------------------------------------------------------------------\u001b[0m",
            "\u001b[0;31mNameError\u001b[0m                                 Traceback (most recent call last)",
            "\u001b[0;32m<ipython-input-9-57d3b9df0976>\u001b[0m in \u001b[0;36m<cell line: 1>\u001b[0;34m()\u001b[0m\n\u001b[0;32m----> 1\u001b[0;31m \u001b[0mresult\u001b[0m\u001b[0;34m[\u001b[0m\u001b[0;34m'news_result'\u001b[0m\u001b[0;34m]\u001b[0m\u001b[0;34m\u001b[0m\u001b[0;34m\u001b[0m\u001b[0m\n\u001b[0m",
            "\u001b[0;31mNameError\u001b[0m: name 'result' is not defined"
          ]
        }
      ],
      "source": [
        "result['news_result']"
      ]
    },
    {
      "cell_type": "markdown",
      "metadata": {
        "id": "JeqzolHbhJfL"
      },
      "source": [
        "We can now combine the SerpApi client with the web scraper to define a complete pipeline going from a prompt to a set of scraped incident reports."
      ]
    },
    {
      "cell_type": "code",
      "execution_count": null,
      "metadata": {
        "id": "EPVQaEudhJfM"
      },
      "outputs": [],
      "source": [
        "from numpy import inf       # This will allow us to retrieve all search results.\n",
        "import pickle               # This will allow us to save a list of"
      ]
    },
    {
      "cell_type": "code",
      "execution_count": null,
      "metadata": {
        "id": "OMHIuayThJfM"
      },
      "outputs": [],
      "source": [
        "def prompt_to_reports(prompt : str,\n",
        "                      num_results : int = inf,\n",
        "                      engine : str = 'google_news',\n",
        "                      hl : str = 'en',\n",
        "                      gl : str = 'us',\n",
        "                      save : bool = False,\n",
        "                      file : str = 'scraped-results') -> list:\n",
        "    '''\n",
        "    Takes in a prompt and returns a list of strings containing the text of the first n search results.\n",
        "\n",
        "    prompt : The prompt to be searched.\n",
        "    engine : The search engine to use. Defaults to Google News.\n",
        "    hl : Language to use for search. Defaults to English. For supported languages, see https://serpapi.com/google-languages\n",
        "    gl : Country to use for search. Defaults to US. For countries supported, see https://serpapi.com/google-countries\n",
        "    save : Boolean determining whether scraped text should be pickled for later use.\n",
        "    file : Optional argument for naming pickle file with scraped text.\n",
        "\n",
        "    Returns scraped text from search results as a list of strings.\n",
        "    '''\n",
        "\n",
        "    result_type = {'google' : 'organic_results',\n",
        "                   'google_news' : 'news_results'}\n",
        "\n",
        "    results_json = client.search(\n",
        "        q = prompt,\n",
        "        engine = engine,\n",
        "        hl = hl,\n",
        "        gl = gl\n",
        "    )\n",
        "\n",
        "    results = results_json[result_type[engine]]\n",
        "    to_scrape = []\n",
        "\n",
        "    for i in range(min(num_results, len(results))):\n",
        "        to_scrape.append(results[i]['link'])\n",
        "\n",
        "    texts = []\n",
        "\n",
        "    for url in to_scrape:\n",
        "        texts.append(get_url_text(url))\n",
        "\n",
        "    if save:\n",
        "        with open(f\"{file}\", \"wb\") as pickle_file:\n",
        "            pickle.dump(texts, pickle_file)\n",
        "\n",
        "    return texts"
      ]
    },
    {
      "cell_type": "code",
      "execution_count": null,
      "metadata": {
        "colab": {
          "base_uri": "https://localhost:8080/",
          "height": 639
        },
        "id": "VVT3JpRVhJfM",
        "outputId": "31c89427-f77a-407e-f829-0e6cb2417c5e"
      },
      "outputs": [
        {
          "output_type": "error",
          "ename": "SessionNotCreatedException",
          "evalue": "Message: session not created: Chrome failed to start: exited normally.\n  (session not created: DevToolsActivePort file doesn't exist)\n  (The process started from chrome location /root/.cache/selenium/chrome/linux64/126.0.6478.62/chrome is no longer running, so ChromeDriver is assuming that Chrome has crashed.)\nStacktrace:\n#0 0x5afc9689170a <unknown>\n#1 0x5afc965740dc <unknown>\n#2 0x5afc965a902a <unknown>\n#3 0x5afc965a543b <unknown>\n#4 0x5afc965efef9 <unknown>\n#5 0x5afc965e3613 <unknown>\n#6 0x5afc965b34f7 <unknown>\n#7 0x5afc965b3e4e <unknown>\n#8 0x5afc968578db <unknown>\n#9 0x5afc9685b981 <unknown>\n#10 0x5afc968433ce <unknown>\n#11 0x5afc9685c4e2 <unknown>\n#12 0x5afc96827d2f <unknown>\n#13 0x5afc96881108 <unknown>\n#14 0x5afc968812e0 <unknown>\n#15 0x5afc9689083c <unknown>\n#16 0x7a621faa1ac3 <unknown>\n",
          "traceback": [
            "\u001b[0;31m---------------------------------------------------------------------------\u001b[0m",
            "\u001b[0;31mSessionNotCreatedException\u001b[0m                Traceback (most recent call last)",
            "\u001b[0;32m<ipython-input-12-5148cdfec4cf>\u001b[0m in \u001b[0;36m<cell line: 1>\u001b[0;34m()\u001b[0m\n\u001b[0;32m----> 1\u001b[0;31m \u001b[0mprompt_to_reports\u001b[0m\u001b[0;34m(\u001b[0m\u001b[0;34m'vessel caught misreporting catch'\u001b[0m\u001b[0;34m,\u001b[0m \u001b[0mnum_results\u001b[0m\u001b[0;34m=\u001b[0m\u001b[0;36m10\u001b[0m\u001b[0;34m,\u001b[0m \u001b[0msave\u001b[0m\u001b[0;34m=\u001b[0m\u001b[0;32mTrue\u001b[0m\u001b[0;34m)\u001b[0m\u001b[0;34m\u001b[0m\u001b[0;34m\u001b[0m\u001b[0m\n\u001b[0m",
            "\u001b[0;32m<ipython-input-11-c7f3f98b90a3>\u001b[0m in \u001b[0;36mprompt_to_reports\u001b[0;34m(prompt, num_results, engine, hl, gl, save, file)\u001b[0m\n\u001b[1;32m     38\u001b[0m \u001b[0;34m\u001b[0m\u001b[0m\n\u001b[1;32m     39\u001b[0m     \u001b[0;32mfor\u001b[0m \u001b[0murl\u001b[0m \u001b[0;32min\u001b[0m \u001b[0mto_scrape\u001b[0m\u001b[0;34m:\u001b[0m\u001b[0;34m\u001b[0m\u001b[0;34m\u001b[0m\u001b[0m\n\u001b[0;32m---> 40\u001b[0;31m         \u001b[0mtexts\u001b[0m\u001b[0;34m.\u001b[0m\u001b[0mappend\u001b[0m\u001b[0;34m(\u001b[0m\u001b[0mget_url_text\u001b[0m\u001b[0;34m(\u001b[0m\u001b[0murl\u001b[0m\u001b[0;34m)\u001b[0m\u001b[0;34m)\u001b[0m\u001b[0;34m\u001b[0m\u001b[0;34m\u001b[0m\u001b[0m\n\u001b[0m\u001b[1;32m     41\u001b[0m \u001b[0;34m\u001b[0m\u001b[0m\n\u001b[1;32m     42\u001b[0m     \u001b[0;32mif\u001b[0m \u001b[0msave\u001b[0m\u001b[0;34m:\u001b[0m\u001b[0;34m\u001b[0m\u001b[0;34m\u001b[0m\u001b[0m\n",
            "\u001b[0;32m<ipython-input-8-5ad2bf4baddc>\u001b[0m in \u001b[0;36mget_url_text\u001b[0;34m(url, save, file)\u001b[0m\n\u001b[1;32m     10\u001b[0m     '''\n\u001b[1;32m     11\u001b[0m \u001b[0;34m\u001b[0m\u001b[0m\n\u001b[0;32m---> 12\u001b[0;31m     \u001b[0mdriver\u001b[0m \u001b[0;34m=\u001b[0m \u001b[0mwebdriver\u001b[0m\u001b[0;34m.\u001b[0m\u001b[0mChrome\u001b[0m\u001b[0;34m(\u001b[0m\u001b[0moptions\u001b[0m\u001b[0;34m=\u001b[0m\u001b[0moptions\u001b[0m\u001b[0;34m)\u001b[0m\u001b[0;34m\u001b[0m\u001b[0;34m\u001b[0m\u001b[0m\n\u001b[0m\u001b[1;32m     13\u001b[0m     \u001b[0mdriver\u001b[0m\u001b[0;34m.\u001b[0m\u001b[0mget\u001b[0m\u001b[0;34m(\u001b[0m\u001b[0murl\u001b[0m\u001b[0;34m)\u001b[0m\u001b[0;34m\u001b[0m\u001b[0;34m\u001b[0m\u001b[0m\n\u001b[1;32m     14\u001b[0m \u001b[0;34m\u001b[0m\u001b[0m\n",
            "\u001b[0;32m/usr/local/lib/python3.10/dist-packages/selenium/webdriver/chrome/webdriver.py\u001b[0m in \u001b[0;36m__init__\u001b[0;34m(self, options, service, keep_alive)\u001b[0m\n\u001b[1;32m     43\u001b[0m         \u001b[0moptions\u001b[0m \u001b[0;34m=\u001b[0m \u001b[0moptions\u001b[0m \u001b[0;32mif\u001b[0m \u001b[0moptions\u001b[0m \u001b[0;32melse\u001b[0m \u001b[0mOptions\u001b[0m\u001b[0;34m(\u001b[0m\u001b[0;34m)\u001b[0m\u001b[0;34m\u001b[0m\u001b[0;34m\u001b[0m\u001b[0m\n\u001b[1;32m     44\u001b[0m \u001b[0;34m\u001b[0m\u001b[0m\n\u001b[0;32m---> 45\u001b[0;31m         super().__init__(\n\u001b[0m\u001b[1;32m     46\u001b[0m             \u001b[0mbrowser_name\u001b[0m\u001b[0;34m=\u001b[0m\u001b[0mDesiredCapabilities\u001b[0m\u001b[0;34m.\u001b[0m\u001b[0mCHROME\u001b[0m\u001b[0;34m[\u001b[0m\u001b[0;34m\"browserName\"\u001b[0m\u001b[0;34m]\u001b[0m\u001b[0;34m,\u001b[0m\u001b[0;34m\u001b[0m\u001b[0;34m\u001b[0m\u001b[0m\n\u001b[1;32m     47\u001b[0m             \u001b[0mvendor_prefix\u001b[0m\u001b[0;34m=\u001b[0m\u001b[0;34m\"goog\"\u001b[0m\u001b[0;34m,\u001b[0m\u001b[0;34m\u001b[0m\u001b[0;34m\u001b[0m\u001b[0m\n",
            "\u001b[0;32m/usr/local/lib/python3.10/dist-packages/selenium/webdriver/chromium/webdriver.py\u001b[0m in \u001b[0;36m__init__\u001b[0;34m(self, browser_name, vendor_prefix, options, service, keep_alive)\u001b[0m\n\u001b[1;32m     64\u001b[0m \u001b[0;34m\u001b[0m\u001b[0m\n\u001b[1;32m     65\u001b[0m         \u001b[0;32mtry\u001b[0m\u001b[0;34m:\u001b[0m\u001b[0;34m\u001b[0m\u001b[0;34m\u001b[0m\u001b[0m\n\u001b[0;32m---> 66\u001b[0;31m             \u001b[0msuper\u001b[0m\u001b[0;34m(\u001b[0m\u001b[0;34m)\u001b[0m\u001b[0;34m.\u001b[0m\u001b[0m__init__\u001b[0m\u001b[0;34m(\u001b[0m\u001b[0mcommand_executor\u001b[0m\u001b[0;34m=\u001b[0m\u001b[0mexecutor\u001b[0m\u001b[0;34m,\u001b[0m \u001b[0moptions\u001b[0m\u001b[0;34m=\u001b[0m\u001b[0moptions\u001b[0m\u001b[0;34m)\u001b[0m\u001b[0;34m\u001b[0m\u001b[0;34m\u001b[0m\u001b[0m\n\u001b[0m\u001b[1;32m     67\u001b[0m         \u001b[0;32mexcept\u001b[0m \u001b[0mException\u001b[0m\u001b[0;34m:\u001b[0m\u001b[0;34m\u001b[0m\u001b[0;34m\u001b[0m\u001b[0m\n\u001b[1;32m     68\u001b[0m             \u001b[0mself\u001b[0m\u001b[0;34m.\u001b[0m\u001b[0mquit\u001b[0m\u001b[0;34m(\u001b[0m\u001b[0;34m)\u001b[0m\u001b[0;34m\u001b[0m\u001b[0;34m\u001b[0m\u001b[0m\n",
            "\u001b[0;32m/usr/local/lib/python3.10/dist-packages/selenium/webdriver/remote/webdriver.py\u001b[0m in \u001b[0;36m__init__\u001b[0;34m(self, command_executor, keep_alive, file_detector, options)\u001b[0m\n\u001b[1;32m    206\u001b[0m         \u001b[0mself\u001b[0m\u001b[0;34m.\u001b[0m\u001b[0m_authenticator_id\u001b[0m \u001b[0;34m=\u001b[0m \u001b[0;32mNone\u001b[0m\u001b[0;34m\u001b[0m\u001b[0;34m\u001b[0m\u001b[0m\n\u001b[1;32m    207\u001b[0m         \u001b[0mself\u001b[0m\u001b[0;34m.\u001b[0m\u001b[0mstart_client\u001b[0m\u001b[0;34m(\u001b[0m\u001b[0;34m)\u001b[0m\u001b[0;34m\u001b[0m\u001b[0;34m\u001b[0m\u001b[0m\n\u001b[0;32m--> 208\u001b[0;31m         \u001b[0mself\u001b[0m\u001b[0;34m.\u001b[0m\u001b[0mstart_session\u001b[0m\u001b[0;34m(\u001b[0m\u001b[0mcapabilities\u001b[0m\u001b[0;34m)\u001b[0m\u001b[0;34m\u001b[0m\u001b[0;34m\u001b[0m\u001b[0m\n\u001b[0m\u001b[1;32m    209\u001b[0m \u001b[0;34m\u001b[0m\u001b[0m\n\u001b[1;32m    210\u001b[0m     \u001b[0;32mdef\u001b[0m \u001b[0m__repr__\u001b[0m\u001b[0;34m(\u001b[0m\u001b[0mself\u001b[0m\u001b[0;34m)\u001b[0m\u001b[0;34m:\u001b[0m\u001b[0;34m\u001b[0m\u001b[0;34m\u001b[0m\u001b[0m\n",
            "\u001b[0;32m/usr/local/lib/python3.10/dist-packages/selenium/webdriver/remote/webdriver.py\u001b[0m in \u001b[0;36mstart_session\u001b[0;34m(self, capabilities)\u001b[0m\n\u001b[1;32m    290\u001b[0m \u001b[0;34m\u001b[0m\u001b[0m\n\u001b[1;32m    291\u001b[0m         \u001b[0mcaps\u001b[0m \u001b[0;34m=\u001b[0m \u001b[0m_create_caps\u001b[0m\u001b[0;34m(\u001b[0m\u001b[0mcapabilities\u001b[0m\u001b[0;34m)\u001b[0m\u001b[0;34m\u001b[0m\u001b[0;34m\u001b[0m\u001b[0m\n\u001b[0;32m--> 292\u001b[0;31m         \u001b[0mresponse\u001b[0m \u001b[0;34m=\u001b[0m \u001b[0mself\u001b[0m\u001b[0;34m.\u001b[0m\u001b[0mexecute\u001b[0m\u001b[0;34m(\u001b[0m\u001b[0mCommand\u001b[0m\u001b[0;34m.\u001b[0m\u001b[0mNEW_SESSION\u001b[0m\u001b[0;34m,\u001b[0m \u001b[0mcaps\u001b[0m\u001b[0;34m)\u001b[0m\u001b[0;34m[\u001b[0m\u001b[0;34m\"value\"\u001b[0m\u001b[0;34m]\u001b[0m\u001b[0;34m\u001b[0m\u001b[0;34m\u001b[0m\u001b[0m\n\u001b[0m\u001b[1;32m    293\u001b[0m         \u001b[0mself\u001b[0m\u001b[0;34m.\u001b[0m\u001b[0msession_id\u001b[0m \u001b[0;34m=\u001b[0m \u001b[0mresponse\u001b[0m\u001b[0;34m.\u001b[0m\u001b[0mget\u001b[0m\u001b[0;34m(\u001b[0m\u001b[0;34m\"sessionId\"\u001b[0m\u001b[0;34m)\u001b[0m\u001b[0;34m\u001b[0m\u001b[0;34m\u001b[0m\u001b[0m\n\u001b[1;32m    294\u001b[0m         \u001b[0mself\u001b[0m\u001b[0;34m.\u001b[0m\u001b[0mcaps\u001b[0m \u001b[0;34m=\u001b[0m \u001b[0mresponse\u001b[0m\u001b[0;34m.\u001b[0m\u001b[0mget\u001b[0m\u001b[0;34m(\u001b[0m\u001b[0;34m\"capabilities\"\u001b[0m\u001b[0;34m)\u001b[0m\u001b[0;34m\u001b[0m\u001b[0;34m\u001b[0m\u001b[0m\n",
            "\u001b[0;32m/usr/local/lib/python3.10/dist-packages/selenium/webdriver/remote/webdriver.py\u001b[0m in \u001b[0;36mexecute\u001b[0;34m(self, driver_command, params)\u001b[0m\n\u001b[1;32m    345\u001b[0m         \u001b[0mresponse\u001b[0m \u001b[0;34m=\u001b[0m \u001b[0mself\u001b[0m\u001b[0;34m.\u001b[0m\u001b[0mcommand_executor\u001b[0m\u001b[0;34m.\u001b[0m\u001b[0mexecute\u001b[0m\u001b[0;34m(\u001b[0m\u001b[0mdriver_command\u001b[0m\u001b[0;34m,\u001b[0m \u001b[0mparams\u001b[0m\u001b[0;34m)\u001b[0m\u001b[0;34m\u001b[0m\u001b[0;34m\u001b[0m\u001b[0m\n\u001b[1;32m    346\u001b[0m         \u001b[0;32mif\u001b[0m \u001b[0mresponse\u001b[0m\u001b[0;34m:\u001b[0m\u001b[0;34m\u001b[0m\u001b[0;34m\u001b[0m\u001b[0m\n\u001b[0;32m--> 347\u001b[0;31m             \u001b[0mself\u001b[0m\u001b[0;34m.\u001b[0m\u001b[0merror_handler\u001b[0m\u001b[0;34m.\u001b[0m\u001b[0mcheck_response\u001b[0m\u001b[0;34m(\u001b[0m\u001b[0mresponse\u001b[0m\u001b[0;34m)\u001b[0m\u001b[0;34m\u001b[0m\u001b[0;34m\u001b[0m\u001b[0m\n\u001b[0m\u001b[1;32m    348\u001b[0m             \u001b[0mresponse\u001b[0m\u001b[0;34m[\u001b[0m\u001b[0;34m\"value\"\u001b[0m\u001b[0;34m]\u001b[0m \u001b[0;34m=\u001b[0m \u001b[0mself\u001b[0m\u001b[0;34m.\u001b[0m\u001b[0m_unwrap_value\u001b[0m\u001b[0;34m(\u001b[0m\u001b[0mresponse\u001b[0m\u001b[0;34m.\u001b[0m\u001b[0mget\u001b[0m\u001b[0;34m(\u001b[0m\u001b[0;34m\"value\"\u001b[0m\u001b[0;34m,\u001b[0m \u001b[0;32mNone\u001b[0m\u001b[0;34m)\u001b[0m\u001b[0;34m)\u001b[0m\u001b[0;34m\u001b[0m\u001b[0;34m\u001b[0m\u001b[0m\n\u001b[1;32m    349\u001b[0m             \u001b[0;32mreturn\u001b[0m \u001b[0mresponse\u001b[0m\u001b[0;34m\u001b[0m\u001b[0;34m\u001b[0m\u001b[0m\n",
            "\u001b[0;32m/usr/local/lib/python3.10/dist-packages/selenium/webdriver/remote/errorhandler.py\u001b[0m in \u001b[0;36mcheck_response\u001b[0;34m(self, response)\u001b[0m\n\u001b[1;32m    227\u001b[0m                 \u001b[0malert_text\u001b[0m \u001b[0;34m=\u001b[0m \u001b[0mvalue\u001b[0m\u001b[0;34m[\u001b[0m\u001b[0;34m\"alert\"\u001b[0m\u001b[0;34m]\u001b[0m\u001b[0;34m.\u001b[0m\u001b[0mget\u001b[0m\u001b[0;34m(\u001b[0m\u001b[0;34m\"text\"\u001b[0m\u001b[0;34m)\u001b[0m\u001b[0;34m\u001b[0m\u001b[0;34m\u001b[0m\u001b[0m\n\u001b[1;32m    228\u001b[0m             \u001b[0;32mraise\u001b[0m \u001b[0mexception_class\u001b[0m\u001b[0;34m(\u001b[0m\u001b[0mmessage\u001b[0m\u001b[0;34m,\u001b[0m \u001b[0mscreen\u001b[0m\u001b[0;34m,\u001b[0m \u001b[0mstacktrace\u001b[0m\u001b[0;34m,\u001b[0m \u001b[0malert_text\u001b[0m\u001b[0;34m)\u001b[0m  \u001b[0;31m# type: ignore[call-arg]  # mypy is not smart enough here\u001b[0m\u001b[0;34m\u001b[0m\u001b[0;34m\u001b[0m\u001b[0m\n\u001b[0;32m--> 229\u001b[0;31m         \u001b[0;32mraise\u001b[0m \u001b[0mexception_class\u001b[0m\u001b[0;34m(\u001b[0m\u001b[0mmessage\u001b[0m\u001b[0;34m,\u001b[0m \u001b[0mscreen\u001b[0m\u001b[0;34m,\u001b[0m \u001b[0mstacktrace\u001b[0m\u001b[0;34m)\u001b[0m\u001b[0;34m\u001b[0m\u001b[0;34m\u001b[0m\u001b[0m\n\u001b[0m",
            "\u001b[0;31mSessionNotCreatedException\u001b[0m: Message: session not created: Chrome failed to start: exited normally.\n  (session not created: DevToolsActivePort file doesn't exist)\n  (The process started from chrome location /root/.cache/selenium/chrome/linux64/126.0.6478.62/chrome is no longer running, so ChromeDriver is assuming that Chrome has crashed.)\nStacktrace:\n#0 0x5afc9689170a <unknown>\n#1 0x5afc965740dc <unknown>\n#2 0x5afc965a902a <unknown>\n#3 0x5afc965a543b <unknown>\n#4 0x5afc965efef9 <unknown>\n#5 0x5afc965e3613 <unknown>\n#6 0x5afc965b34f7 <unknown>\n#7 0x5afc965b3e4e <unknown>\n#8 0x5afc968578db <unknown>\n#9 0x5afc9685b981 <unknown>\n#10 0x5afc968433ce <unknown>\n#11 0x5afc9685c4e2 <unknown>\n#12 0x5afc96827d2f <unknown>\n#13 0x5afc96881108 <unknown>\n#14 0x5afc968812e0 <unknown>\n#15 0x5afc9689083c <unknown>\n#16 0x7a621faa1ac3 <unknown>\n"
          ]
        }
      ],
      "source": [
        "prompt_to_reports('vessel caught misreporting catch', num_results=10, save=True)"
      ]
    },
    {
      "cell_type": "markdown",
      "metadata": {
        "id": "6K473m-DhJfN"
      },
      "source": [
        "We can see that the text was successfully scraped from 9 of the top 10 Google News results for the prompt 'vessel caught misreporting catch' - not bad!\n",
        "\n",
        "The above search results are now saved in the pickle file `scraped-results.pkl`. They can be reloaded as follows:"
      ]
    },
    {
      "cell_type": "code",
      "execution_count": null,
      "metadata": {
        "id": "UgkzT7BqhJfN",
        "outputId": "30b6b190-565c-43bf-e11a-8031c6b60758"
      },
      "outputs": [
        {
          "data": {
            "text/plain": [
              "[' Today, the Environmental Justice Foundation commends the European Commission for approving new rules that require stricter controls for landings by EU fishing vessels, providing new tools to prevent significant misreporting of unsorted catches when landing in selected ports, including those in third countries. It is welcome that the new rules require advanced and stricter control tools, such as CCTV to monitor landings, and set minimum benchmarks for the rates of inspection on trans-shipments. If properly implemented, this can increase transparency and accuracy in reporting by EU fleets that catch a large number of species, including those that have been overfished, such as yellowfin tuna in the Indian Ocean. Sean Parramore, Senior EU Advocacy Officer at the Environmental Justice Foundation, said: \"Stricter control measures on landings by EU vessels that have more leeway to misreport their catches are critical to prevent hidden overfishing. In the long run, everyone loses if we open the door to fish fraud. Fish stocks will collapse and the EU\\'s credibility in its efforts to promote sustainable fisheries on the world stage will be severely undermined. These new rules can help prevent that.“ A first list of ports is to be adopted by July 2024, following input from EU Member States. Sean Parramore added: “When selecting ports, it is crucial that there is sufficient evidence that the conditions approved today are actually in place. This will be key for the EU to continue leading by example in fighting unreported fishing globally.” ENDS Notes to editors EJF works internationally to inform policy and drive systemic, durable reforms to protect our environment and defend human rights. We investigate and expose abuses and support environmental defenders, Indigenous peoples, communities, and independent journalists on the frontlines of environmental injustice. Our campaigns aim to secure peaceful, equitable, and sustainable futures. Our investigators, researchers, filmmakers, and campaigners work with grassroots partners and environmental defenders across the globe. Our work to secure environmental justice aims to protect our global climate, ocean, forests, and wildlife and defend basic human rights. For more information or to speak to one of our expert staff, please email media@ejfoundation.org.   Environmental Justice Foundation Charitable Trust (EJF) is a registered charity in England and Wales (no. 1088128). Environmental Justice Foundation Limited is a not-for-profit trading company limited by guarantee registered in England (no. 0385 3159) © EJF 2024. Website by\\xa0Mud',\n",
              " \" Monday, 25 Mar, 2024 In a decisive strike against illegal fishing, The Gambia Navy, supported by Sea Shepherd's vessel Age of Union, apprehended eight industrial trawlers off the coast of The Gambia for severe violations of fisheries laws. On the 8th\\xa0of March, armed maritime interdiction units with The Gambia Navy were deployed from the Sea Shepherd ship\\xa0Age of Union\\xa0in a law enforcement sweep that netted eight industrial trawlers for serious fisheries offenses ranging from fishing inside of protected waters, fishing without a valid license, using undersized mesh size and misreporting catch. The series of arrests occurred over a 24-hour period, as Gambia Navy sailors launched a coordinated sting operation based on weeks of intelligence gathering by the Ministry of Defense in the West African country of The Gambia. Fishing vessels\\xa0Majilac 03,\\xa0Majilac 05,\\xa0Majilac 06,\\xa0Majilac 07,\\xa0Zherui 100612,\\xa0Hao Yun 1,\\xa0Hao Yun 2\\xa0and\\xa0Hai Hao 2\\xa0were all caught in the bust and are presently detained in the Port of Banjul. Seven of the eight vessels were arrested for fishing inside of a Special Management Area reserved for artisanal fishermen, and where industrial fishing is outlawed. Four of the vessels were using fishing nets with undersized mesh size. \\n                “The Gambia implements mesh size requirements to ensure that undersized and juvenile fish can escape, thereby conserving fish populations to mitigate overfishing. But at-sea patrols are needed to ensure compliance as well as deterring industrial trawlers from entering protected areas.”\\n             The waters of The Gambia are particularly rich in biodiversity as the country is positioned where the nutrient-rich Gambia River meets the Canary Current. The livelihoods of over 300,000 Gambians are directly or indirectly dependent on local fisheries while the United Nations Food and Agriculture Organization (UN FAO) believes that more than 46% of the assessed fish populations in the Eastern Central Atlantic are experiencing overfishing. Sardinella and other small pelagic species are of critical importance to Gambians which is why the government instituted a twelve-nautical mile Special Management Area to conserve waters frequented by artisanal fishermen. However, industrialized trawlers routinely come close to the shoreline where small-scale fishers regularly see the fishing lights from beach communities. The Ministry of Defense often receives reports from artisanal fishermen about trawlers fishing in no-go zones. Populations of sardinella are also rapidly declining due to these daily incursions as industrialized\\xa0trawlers take far more fish than fishers in paddle canoes can. None of the arrested vessels were transmitting their position using their automatic identification system, a mandatory transponder that allows law enforcement to track vessel movements. \\n                “Sea Shepherd commends the actions of The Gambian government in taking strong action against industrial trawlers that circumvent laws, fishing in protected areas and jeopardizing the livelihoods of local communities. Since the arrests, our captain and crew are reporting that all other industrialized trawlers are keeping outside of the Special Management Area, where The Gambia Navy continues to stand watch from Age of Union.”\\n             Operation Gambian Coastal Defense is a unique partnership with the government of The Gambia that started in 2019 to conduct joint at sea patrols to combat illegal, unreported and unregulated (IUU) fishing. Since 2016, Sea Shepherd has worked in partnership with the governments of Gabon, Liberia, Sierra Leone, São Tomé and Príncipe, Tanzania, Benin, Namibia and The Gambia to combat IUU fishing by providing the use of civilian offshore patrol vessels to African coastal and island States so that authorities can enforce fisheries regulations and conservation laws in their sovereign waters. To date, the unique partnerships have resulted in the arrest of 96 vessels for illegal fishing and other fisheries crimes. Scroll down to watch the arrest video! Monday, 17 Jun, 2024 Wednesday, 05 Jun, 2024 Monday, 03 Jun, 2024 Thursday, 07 Dec, 2023 Friday, 27 Oct, 2023 Tuesday, 26 Sep, 2023 Wednesday, 13 Sep, 2023 Thursday, 31 Aug, 2023 Monday, 28 Aug, 2023 Get Involved Contribute Shop\",\n",
              " ' This website is using a security service to protect itself from online attacks. The action you just performed triggered the security solution. There are several actions that could trigger this block including submitting a certain word or phrase, a SQL command or malformed data. You can email the site owner to let them know you were blocked. Please include what you were doing when this page came up and the Cloudflare Ray ID found at the bottom of this page. \\nCloudflare Ray ID: 8960179a5f777577\\n•\\n\\n      Your IP:\\n      Click to reveal\\n2601:602:867e:a400:751b:d992:6a18:7994\\n•\\n\\nPerformance & security by Cloudflare\\n',\n",
              " \" Early this morning, the Fremantle Highway, a vehicle carrying cargo ship, caught fire in the North Sea, off the coast of Ameland in the Netherlands. The fire has killed one person on board and injured several more, though all 23 crew members have at this point been evacuated from the ship. Currently, the fire is still burning and the cause of the fire is unknown, according to the Dutch Coast Guard, which is carrying out the firefighting operation. But media reports, seeming to all crib from the same misquote, would have you think otherwise. The Fremantle Highway is a “roll-on/roll-off,” or “RoRo,” ship, a vehicle carrier designed for cars to drive on and off of it in loading and unloading. According to early reports, it was carrying 2,832 gas-powered cars, complete with a large amount of volatile energy stored in their collective gas tanks (some is needed to drive on and off of the ship) and in the tank of the ship itself, and 25 electric cars, from Germany to Egypt (those numbers have now been updated to 3,783 cars, including 498 EVs – which shows the peril of reporting on things like this with incomplete information). Naturally, the media seems to have taken one statement from the Dutch Coast Guard and misinterpreted it, jumping to exactly the premature conclusion that you probably did when you saw this headline pop up. An early article about the cargo ship fire quoted Lea Versteeg, a spokesperson for the Dutch Coast Guard, as having made this statement over the phone: It’s carrying cars, 2,857, of which 25 are electrical cars, which made the fire even more difficult. It’s not easy to keep that kind of fire under control and even in such a vessel it’s not easy. This quote seems reasonable. We’re not sure who made the phone call, but since it’s in the Associated Press article, we suspect they might be the first who got this statement directly from Versteeg’s mouth. What the quote seems to mean is that in a ship full of vehicles, each of which is carrying their own at least partially full energy storage container (whether that be a gas tank or a battery), it’s going to be hard to put out a fire because there is a lot of fuel available for that fire. Further, given that there is a mix of fuels, it’s hard to pick a single tactic to put all of them out at once, because firefighting methods are different for different types of fires. What the quote clearly doesn’t mean is that the Coast Guard is blaming this fire on an electric car. And how do we know that? Well, we called their media line and asked them. And they told us that, no, they have not made a statement to that effect, because they don’t know the cause of the fire yet, and that this seems to be speculation in the media. We also checked the Dutch Coast Guard’s liveblog about the firefighting efforts, and their Twitter page, and neither said anything about electric cars. In fact, the liveblog has now been updated to say “the cause of the fire is still unknown.” And it makes sense that the Coast Guard would not know yet what the source of the fire is, and it would be unprofessional of them to say so, given that the fire isn’t even contained yet. But NOS, the Dutch public broadcaster, cites a “Coast Guard spokesperson” as saying that presumably the fire was started by an EV. But unlike AP, NOS does not name the spokesperson nor does it have a direct quote from said spokesperson. So we really don’t know whether NOS talked to a spokesperson, or is cribbing from the Versteeg quote above – and changing its meaning in the process. And several other articles have run with this mysteriously unsourced quote, which conflicts with the Coast Guard’s actual statement, putting this nonexistent suspicion into their headlines. Reuters echoed NOS’s statement in its original article on the fire, but in a more recent article, it has now walked that back, stating “the coastguard said on its website that the cause of the fire was unknown, but a coastguard spokesperson had earlier told Reuters it began near an electric car” (emphasis ours). And various more-ideological publications, especially those associated with climate denial, are leaning hard into claiming an EV is the cause as well. So let’s take stock: Given this information, we must conclude that this is being misreported based on the evidence available at the time of publication. This is unfortunately not the first time we’ve seen something like this happen. Just off the top of my head: One thing we do know is that cargo ship fires are not uncommon, with hundreds happening last year. We also know that another cargo ship carrying ~1,200 gas cars (and zero electric) caught fire earlier this month in New Jersey, killing two. And we know that gasoline is literally supposed to combust, that’s its entire purpose, and it does, commonly, since gas cars are more likely to catch fire than EVs are, with hundreds of thousands of gas car fires every year in the US, virtually none of which get reported. And yet, you probably have a strong association in your subconscious between fires and electric cars. This association is why events like the aforementioned reporting on the 1,200-car ship had to specifically mention that “there were no electric cars on board.” Because the last time a ship made headlines for burning, it was one that had a lot of electric cars on board (and notably also several gas-powered Lamborghini Aventadors, which have been recalled for fires). And despite burning ships being a not-uncommon event, this one made so many headlines precisely because of the nature of the electric cars on board. That event also had several early reports laying blame on said electric cars, but that was also early speculation, by media, never by official authorities, and the cause of that fire is still unclear to this day. But the association remains. There is a concept in journalism that is summarized as “Man Bites Dog.” The saying goes that you would never report on a dog biting a man, because that’s a common occurrence, but if a man bites a dog, well, that’s interesting and rare, so that belongs in the paper. What this means is that news tends to magnify rare events, and de-emphasize common ones. And in our media-saturated landscape, where everyone is constantly being bombarded by headlines that they don’t have the time or inclination to analyze (thank you to the ~.1% of people who saw the headline and actually clicked and read through to this sentence), this leads people to have a warped view of the commonality of certain events. Unfortunately, in writing this article, we have become part of the problem. By posting about fires in an electric vehicle publication, we have created an association in the minds of anyone who sees this headline between electric cars and fires. Sure the media has jumped well ahead of the facts.  That said this article is a weird kind of overcompensation with its own assumptions and errors  So let's talk about shipping industry practice which is to severely restrict the transport of electric vehicles on Ro-Ro.  (I've dealt with this personally trying to ship a vehicle transatlantic).  They continue to be very concerned about the difficulties of extinguishing lithium battery fires since the procedures and equipment are still in their infancy.  Those involved in industrial safety knows that safety is a bunch of layers of protection.  Frequency (the only one mentioned by the author), is only one consideration in assessing overall risk. Which is why persistent associations like these are so hard to shake. Even the debunking itself can reinforce the association, through a concept known as the “backfire effect.” Unfortunately, there is no single magic bullet to combat this. But being aware of the problem helps us confront it in our own brains, and here are some better media consumption practices we can follow: And that goes double for journalists. This is your job, that phone call to the press line took all of a minute of my time to clear that up. The tweet was another couple minutes to find because I had to search for “kustwacht” instead of “Coast Guard.” The liveblog was a few minutes because it was slammed with more traffic than the Dutch Coast Guard usually has to deal with. None of this took longer than the amount of time it takes to write an article… but it did take longer than it takes to react with a 140-character quip via tweet. And thus, as the famous saying goes, “the lie travels halfway around the world while the truth is still putting on its shoes” (which, fittingly, is another misquote – Twain didn’t say it). FTC: We use income earning auto affiliate links. More. Subscribe to Electrek on YouTube for exclusive videos and subscribe to the podcast. Jameson has been driving electric vehicles since 2009, and has been writing about them and about clean energy for electrek.co since 2016. You can contact him at jamie@electrek.co \\n\\t\\t\\t\\t\\t\\t\\t\\t\\t\\tUse our Aptera Referral Code for $30 off a reservation for the upcoming Aptera electric vehicle.\\t\\t\\t\\t\\t\\t\\t\\t\\t Manage push notifications\",\n",
              " '',\n",
              " \" NEWPORT, R.I. — Representatives from NOAA and the US Coast Guard are using Carlos Rafael’s case as evidence that more regulations and oversight are necessary in the groundfishing industry. NOAA Special Agent Troy Audyatis explained to a crowd gathered at the New England Fishery Management Council Meeting on Tuesday how NOAA worked with other agencies to catch the so-called Codfather and said, “We need to prevent something like this from ever repeating itself down the road.” Rafael was sentenced to 46-months in federal prison for falsifying fishing quota, cash smuggling, and tax evasion in a criminal case, and was ordered to pay a $3 million penalty to address the federal government's civil claims against him which included counts of misreporting and underreporting his groundfish catch. Audyatis said if there wasn’t an observer, who collects data from U.S. commercial fishing and processing vessels for NOAA, on Rafael’s vessels or a dock-side officer “thousands upon thousands of fish would simply disappear” without being reported. One of the reasons Audyatis gave for Rafael being able to misreport and underreport was the vertical integration of Rafael’s business. “Carlos was able to do what he did because he owned the boats and he owned the business [that sold the fish],” Audyatis said. NOAA is exploring additional restrictions on vertically integrated business, according to Audyatis, as well as increasing and refocusing monitoring efforts, and creating offloading windows when fishing boats can offload their catch. The monitoring efforts Audyatis mentioned were dockside monitoring, increasing and refining observer coverage rates, and electronic monitoring. “One thing I’ll specifically touch on is the need for increased at-sea monitoring,” Audyatis said, “The problem is when you have single species that are managed in separate stocks it’s hard to tell where those fish were caught if you don’t have someone on board, individually verifying where those fish were caught.” US Coast Guard Captain Kevin King of the First District Enforcement Staff also presented at the Council Meeting in Newport, and discussed the Coast Guard’s report on stock area analysis and investigation of misreporting in the Northeast Multispecies Fishery. The investigation, which used an algorithm that flagged vessels that reported a majority of their catch from an area they were only in for a short time, identified 350 trips from 2011 - 2015 where there appeared to be evidence of misreporting, according to King. King said the evidence of misreporting they found “was across multiple sectors, [it was] not only Carlos Rafael captains” and that potentially 2.5 million pounds of regulated species were misreported. The New England Fishery is divided into different stock areas and fishermen are required to report which stock area they caught their fish in. According to the Coast Guard report, “The stocks may have different populations, reproduction potentials, and growth rates, so managers may have to establish different harvest times in order to achieve maximum sustainable yield from each stock.” Essentially, managers are in charge of preventing overfishing of species. The report states there is an economic incentive to misreport by stock area because in certain stock areas vessels can catch tens of thousands of pounds of a species in a single trip, exhausting the annual catch entitlement for that stock area quickly. However, if the report is falsified and says the fishermen caught the species in another stock area, they can continue to fish in the stock area where there is a large volume of fish. King joined Audyatis in calling for more regulations for the industry, citing the analysis which found the current regulation regime is vulnerable to misreporting and limits the ability of enforcement to detect and document misreporting of stock areas. One regulation King suggested was requiring the declaration of the catch caught in one stock area prior to fishing in a second area. The public were allowed to attend and speak at the meeting and local fisherman expressed their anger over the call for more regulations. Ed Barrett, a fisherman from Marshfield, said “I can’t tell you how angry my fishing community is over this and I’ll tell you why because we came before the council and said this was happening,” referring to the misreporting, and “I think all the tools were there to stop this much sooner than it did.” One specific regulation that infuriates fishermen, Barrett said, is having to deal with the low quotas for cod. David Goethel, a fisherman from New Hampshire said “turning the fishery into a police state” isn’t going to catch crooked fishermen because dockside monitors and at-sea monitors can be bribed. “A lot more effort ought to be put in the crooked dealer side of things” Goethel said, rather than imposing all these regulations on honest fishermen.\",\n",
              " ' email editor email editor  by Oliver McBride | Jun 23, 2023 | Featured News, Latest News, UK Fishing Industry The ‘Guiding Star’ H360 owned by Guiding Light Ltd (which has since been lost) was one of the fishing companies and five fishing vessel Masters that were prosecuted for misreporting catches Three fishing companies and five vessel masters faced prosecutions for misreporting saithe catches at Newcastle magistrates court in June 2023, reports the Marine Management Organisation. Misreporting catches of saithe, which had been caught to get around quota rules, cost three fishing companies and five vessel masters dearly when they appeared in court for a prosecution brought by the Marine Management Organisation (MMO). In total the businesses – Guiding Light Ltd, Livingstone LLP and Falcon Fishing Ltd – were fined a total of £50,000 and ordered to pay more than £49,700 in additional fines equivalent to a proportion of the illegally caught hauls when they appeared at Newcastle magistrates court. Five masters who skippered the vessels – Guiding Light H90, Guiding Star H360 and Falcon H119 – at the time of the offences were fined a total £3,169 for making false entries for the saithe catches in their electronic logbooks. Each business and master admitted misreporting in their logbooks where they had caught quantities of saithe, claiming the fish in question had been hauled in ICES area 6a when it had in fact been caught in ICES area 4a. The court was told each accused had already reached their quota limit for saithe in ICES area 4a, which was rich in saithe stocks, and were not allowed to fish for more during the trips in September and October 2019. However, they all had quota left for 6a where saithe stocks were lower and catches were reportedly smaller. Magistrates were told the defendants deliberately caught the fish in the area where stocks and catches were good. But they attributed the hauls to the sea zone where quota remained available but hauls were likely to be smaller and so worth considerably less at market. The accused were found out when MMO officers checked camera footage from the vessels, which were all taking part in the Government’s Fully Documented Fisheries scheme. The video proved the vessels were not fishing at the times stated in the electronic logbook entries. Magistrates gave all the defendants credit for making early admissions of their offending. In mitigation, the court heard that the separation of quota between the two sea areas was regarded as artificial by many in the fishing industry and the fishing allowances for each area had been merged in 2021 to enable fishermen to fish their quota in either or both areas legally. Guiding Light Ltd, owner of Guiding Light H90, admitted two charges of misreporting the location of part of their saithe catch during two trips in September and October 2019 in breach of the Fisheries Act 1981. The business was fined £20,000, had to repay the value of catch £31,707 and picked up costs of £4396. Gavin Thain, master of the vessel for one of the trips, was fined £888 with an £89 victim surcharge. Richard Watson, master of Guiding Light H90 for the October trip, was fined £300 with a victim surcharge of £32. Livingstone Fishing LLP, owner of Guiding Star H360, admitted two counts of misreporting the location of part of their saithe catch during two trips in September and October 2019 in breach of the Fisheries Act 1981. They were fined £20,000, faced costs of £3853 and must repay the £6470 value of the catch. Barry Fenty, Master of Guiding Star H360, was fined £1057 and must pay a victim surcharge of £106 for one of the trips while Robert Smith, Master of the vessel for the second trip in October 2019, was fined £307 and faces a £32 victim surcharge. Falcon Fishing Ltd, owner of Falcon H119, was fined £10,000 after admitting one charge of misreporting the location of its saithe catch on a single trip between 19 and 27 September 2019. The company also faces costs of £2396 and must repay the catch’s value, £11,577. The vessel’s master for the trip, Rayner Sim, was fined £411 and faces a £41 victim surcharge after pleading guilty to an identical charge in breach of the Fisheries Act 1981. After the hearing, Peter Clark, MMO’s Director of Operations, said: “We assure the quota system in English waters, alongside other fisheries regulations, to support a thriving and fair fishing industry while balancing protection for fish stocks and our marine environment. “Misreporting the location of catches to gain an advantage and generate income unlawfully undermines the whole regulatory framework and, equally importantly, disadvantages the fishers who operate within the law. “While our approach is to work with fishers to achieve compliance with regulations, this prosecution shows that we will take the appropriate action for clear and serious breaches of regulations.” Source: Press Release  Disclaimer CONTACT US: +353(0)83 826 8406 (editor) +353(0)83 826 8406 (sales) editor@thefishingdaily.com advertising@thefishingdaily.com NAVIGATION: Fishing NewsFishing FeaturesContactAbout Fishing DailyAdvertise The Fishing Daily Podcast ShopHome NAVIGATION: Irish Fishing NewsScottish Fishing NewsUK Fishing NewsEU Fishing News European Fishing NewsNI Fishing NewsDanish Fishing NewsNorwegian Fishing News FOLLOW US: If you have a fishing news related story call or WhatsApp Oliver on +353 83 826 8406 or email editor@thefishingdaily.com Copyright © 2020 – 2024 The Fishing Daily. All Rights Reserved. Irish, Scottish & UK Fishing News COMHLACHT CUMARSÁIDE AN tSÁILE TEORANTA (Saltwater Media Company Ltd)Registered Office: No. 1 Áras Ros Goill, Na Dúnaibh, Ros Goill, Co. Donegal, Ireland. F92 RX8C  IRL VAT No: IE3718993GH\\xa0 \\xa0 \\xa0 \\xa0 \\xa0 \\xa0\\xa0IRL Company Reg No: 681474Sitemap\\xa0|\\xa0Terms & Conditions',\n",
              " ' Search Share    A commercial fisherman in Alaska will pay a fine of USD 1 million (EUR 850,000) and spend up to a six months in prison for misreporting his catch. Kodiak fisherman James Aaron Stevens was sentenced last week for “knowingly submitting false records concerning the locations and regulatory areas where fish were harvested,” according to the U.S. District Attorney’s Office, Alaska District. The attorney’s office announced last August that Stevens had plead guilty to one count of false labeling, which constituted a Lacey Act violation. The false reporting occurred during 26 fishing trips between 2014 and 2017, when Stevens served as the owner and operator of the F/V Southern Seas and the F/V Alaskan Star. “Specifically, Stevens knowingly falsified International Pacific Halibut Commission (IPHC) logbooks, daily fishing logbooks, Alaska Department of Fish and Game fish tickets, and landing reports to show that fishing gear had been deployed in areas where the vessels did not fish, and omitted areas in which the fish were actually harvested,” the district attorney’s office said.\\xa0“In addition to his falsified logbooks, the investigation further revealed that Stevens maintained the accurate fishing information in a separate, personal log.” Stevens falsely reported the harvest of some 903,208 pounds of halibut and sablefish, which added up to around USD 4.5 million (EUR 3.83 million) in ex-vessel value and USD 13.5 million (EUR 11.5 million) in market value. \"Stevens sold the falsely labeled fish caught during these trips, which were, or were intended to be, transported in interstate and foreign commerce,” the district attorney’s office said.  Kodiak radio station KMXT reported that Stevens’ legal team had requested intermittent home confinement so Stevens could continue fishing, but the request was denied. “Many family members, friends, and fellow fishermen wrote letters in support of Stevens, pointing to his role as a father and husband with a strong and honest work ethic. Some letters asked for the fine to be reduced. A letter written by Janiese Stevens, James’s wife, pointed to instability and inequities in the halibut and sablefish IFQ program that put economic strains on fishermen,” KMXT reported. An investigation by NOAA’s Office of Law Enforcement led to the charges against Stevens, who will also serve community service and make a public announcement regarding the false reporting. Photo courtesy of\\xa0International Pacific Halibut Commission  bahagenbuch@gmail.com      BROWSE ALL RESOURCES › Become a Member Gain full access to the most trusted resource in seafood industry news by becoming a Premium member!  We use cookies to understand how you use our site and to improve your experience. This includes personalizing content and advertising. By continuing to use our site, you accept our use of cookies. To learn more, please review ourprivacy policy.',\n",
              " ' This article is also available in audio format. Listen now, download, or subscribe to “Hakai Magazine Audio Edition” through your favorite podcast app. In the middle of the Indian Ocean in March 2018, a rusty fishing boat cut through the waves as a similarly sized but far-sleeker vessel called the Ocean Warrior followed in hot pursuit. At 54 meters long and nine meters wide, the Ocean Warrior is equipped with four engines, long-range fuel tanks, a helicopter landing pad, and a water cannon capable of hosing its target with about 20,000 liters each minute. The Sea Shepherd Conservation Society had custom built the US $8-million vessel for running down Japanese whaling ships in the Southern Ocean, but had recently been using it to patrol the waters off Tanzania for illegal fishing boats in partnership with the Tanzanian government and a task force representing eight East African countries called FISH-i Africa. Sea Shepherd provided the boat, crew, and fuel; FISH-i Africa, offered advice borne of experience counteracting illegal fishing operations; and Tanzania provided law enforcement agents who had the authority to apprehend vessels. The 20-day patrol was supposed to be local, but on the third day, the ship’s team had received a call from a contact in Tanzania: a notorious illegal fishing vessel, the STS-50, had escaped from port in Maputo, Mozambique, where authorities were supposed to be guarding it. Was there anything the Ocean Warrior could do to help? The team agreed to give chase. The STS-50 was a 452-tonne, 1980s-era former longliner originally from Japan. It was well known in maritime circles under its previous names—the Andrey Dolgov, the Sea Breeze, the Ayda—for poaching Antarctic and Patagonian toothfish (also called Chilean sea bass), two lucrative cod species from the Southern Ocean. Authorities believe the STS-50 operated illegally for 10 years or so and looted up to $50-million worth of the fish, which can grow to 120 kilograms and live for 60 years. Interpol had issued a purple notice for the vessel—an international request for information about the STS-50’s criminal activity. But the vessel’s owners and captain had been evading authorities for years with a typical bag of tricks: registering the boat to nations with lax rules; using shell companies to obscure ownership; forging documents; and spoofing the most advanced satellite surveillance. The STS-50’s captain was also a master of escape; the getaway from Maputo was the third time he had given port authorities the slip. This time, the Ocean Warrior crew was determined to keep their eyes on the target. But, after chasing the STS-50 for more than 1,600 kilometers across the Indian Ocean, the Ocean Warrior was low on fuel. The predicament forced the Sea Shepherd captain, Mike Dicks, to make an agonizing decision: turn back. It looked like the STS-50 was about to disappear yet again. Mike Dicks of the Sea Shepherd Conservation Society and his crew trail the STS-50 after it flees from Mozambique. Photo courtesy of Sea Shepherd Instead, something else happened. On April 6, 2018, less than two weeks after the Ocean Warrior abandoned chase, Indonesian authorities captured the STS-50 near Banda Aceh. It was a rare victory against an illegal fishing boat, and it highlighted a growing international movement to tackle fishing crimes. In Latin, the high seas are maria libera—meaning “free seas”—a term that helps explain why criminals see these parts of the ocean as easy places to get rich. Historically, illegal fishing has been nearly impossible to counteract, especially on the high seas, which begin where national jurisdiction ends—370 kilometers from a nation’s shore—and cover two-thirds of the world’s oceans. A loose patchwork of laws and international treaties govern these parts of the oceans, but in most places, they’re rarely enforced, allowing illegal fishing and a plethora of related crimes to go unpunished. Vessels that fish illegally are often involved in human trafficking and drug smuggling while contributing to plummeting fish stocks and degraded marine ecosystems. Experts estimate that up to 20 percent of the world’s total catch (fish and other marine fauna) falls under illegal, unreported, and unregulated (IUU) fishing. That’s more than 23 million tonnes of seafood stolen from the seas annually—or one out of every five wild-caught fish sold on the market—worth $23.5-billion. Just six years ago, the STS-50 probably would have gotten away, says Per Erik Bergh, the secretary of Stop Illegal Fishing, an Africa-based nonprofit. But around that time, international authorities and nonprofits began working together more closely to take down illegal vessels. As the players gained one another’s trust, a powerful weapon in the fight against illegal fishing emerged. Ending the STS-50’s reign of pillage had taken countless hours of work by dozens of collaborators across 40 nations: fishers, port authorities, government officials, and representatives from existing coalitions designed to combat marine crime. For Peter Hammarstedt, the director of ship operations for Sea Shepherd who helped coordinate the Ocean Warrior’s pursuit from land, the effort to capture the STS-50 was a testament to the global nature of fisheries crime—and the global solutions required to stop it. “It was exciting,” Hammarstedt says, “to know that all these countries were working together to make sure this one vessel would not get away.” There were major challenges and a bit of luck, Bergh says, but in the end, “it all worked and you just don’t often see that.” The demise of the STS-50 served as proof that the collaborative enforcement model was making progress. In February 2018, about a month and a half before the STS-50’s capture, Antoine Jeulain was sitting alone in his office in Antananarivo, the capital of Madagascar, when he received disturbing news. At the time, he was the French liaison officer at the Madagascar-based Regional Maritime Information Fusion Center, a new information sharing initiative for combatting illegal fishing in the western Indian Ocean. A vessel called the STS-50 had arrived at Fort Dauphin (also known as Tolagnaro), a port on the island’s southeast coast. The boat was evidently registered to Togo, a small West African country, and had come to port because of mechanical issues. An inspector with the Madagascar fisheries control agency had boarded the STS-50 and found suspicious documentation. He took a picture and sent it to the Indian Ocean Tuna Commission (IOTC), an intergovernmental organization that manages tuna in the region. The IOTC confirmed that the document was forged. When Jeulain heard the news through his network, he began making inquiries of his own. From Interpol, he learned that the STS-50 was wanted by seven nations for illegal fishing. Jeulain then checked to see if the vessel’s certification was valid. An official from Togo sent him the response: “We wish to inform you that it’s fraud.” But by the time Jeulain received the email, the STS-50 had left Fort Dauphin. He relayed pictures and the STS-50’s last known positions to his networks in African ports, hoping they would be ready when the rusty ship re-emerged. At that point, the STS-50 might have remained just another one of the numerous illegal fishing vessels that have eluded capture for years. An estimated 168 IUU fishing vessels operate on oceans around the world. The STS-50 went by several different names over the years. It started out in Japan in 1985 as the Shinsei Maru No. 2. Photo courtesy of Sea Shepherd Illegal fishing has confounded fisheries managers for years, says Christian Bueger, an expert in maritime security and a professor of international relations at the University of Copenhagen in Denmark. Coastal nations have typically viewed the issue mainly as an environmental management problem instead of as organized crime. But in many parts of the world, illegal fishing has become a clear threat to coastal security. In Somalia, for example, some locals who have taken to piracy claim it’s a way of guarding their waters against foreign poachers. As the impacts of illegal fishing ripple out, countries are taking the problem more seriously. To address mounting fisheries crimes, Interpol, with support from Norway and a grant from the Pew Charitable Trusts, launched Project Scale in 2013. Nonprofits such as Sea Shepherd and FISH-i Africa, which is associated with Stop Illegal Fishing, and fusion centers such as the one Jeulain was helping build (themselves cooperative entities representing multiple nations) joined the effort. A key part of the project’s work is determining which vessels pose a high risk of carrying out illegal activity based on past behavior and then sharing that information among port authorities, coast guards, and fisheries inspectors around the world. The partners look for boats that have forged paperwork, frequently changed their names and countries of registration, or been involved with illegal fishing in the past. The expertise they honed proved invaluable when the Project Scale players joined the hunt for the STS-50. The Southern Ocean comprises a swath of sea encircling Antarctica and makes up roughly 15 percent of the world’s ocean area. Though often thought of as too inhospitable for human activity, the region is hardly an untouched wilderness. Seven countries lay territorial claim to slices of the region and the resources it contains. In the late 1700s, people first hunted Antarctic fur seals, driving them close to extinction by 1825. They moved on to elephant seals and some species of penguins for their oil. Whaling began soon after, and then krill fishing began in the late 1970s. In response to the growing commercial interest in the region, a group of 26 countries got together and formed the Commission for the Conservation of Antarctic Marine Living Resources (CCAMLR), established by international convention in 1982 with the goal of protecting Antarctic marine life. CCAMLR sets the fishing quotas for the Southern Ocean, but illegal fishing vessels can easily sidestep the directives: boats registered to non-CCAMLR member countries are not subject to the commission’s rules, making prosecution all but impossible. Before the 1990s, few people had heard of the toothfish. A few decades before at a port in Chile, Lee Lantz, an American seafood merchant on the hunt for new fish species, had come across a fish with buttery, mild flesh high in omega-3 fatty acids that was hard to overcook. But the toothfish, with fearsome teeth and a protruding lower jaw, looked as ugly as its name, so Lantz rebranded it as Chilean sea bass. It became so popular that a single fish could sell for thousands of dollars. By the mid-1990s, CCAMLR reported that illegal toothfish hauls had hit over 68,000 tonnes—more than twice the legal quota. Increased surveillance and arrests by countries like Australia and New Zealand have helped curb the poaching activity, but it remains a serious problem. Sea Shepherd’s Ocean Warrior was built as an anti-whaling vessel but has been used to combat illegal fishing. Photo courtesy of Sea Shepherd Selling the illegally caught fish is relatively easy to get away with if port inspectors do a poor job of investigating the vessel, explains Peter Horn, the project director for the Pew Charitable Trusts’ ending illegal fishing program. All the captain has to do is misreport the catch, claiming for instance that the crew caught one type of fish when in fact it caught another; lie about the quantity of fish caught; or pretend to have fished in a different area. The end result is a market with so many illegally caught fish that “there’s a reasonable chance that you have inadvertently bought some,” Horn says. For IUU fishing boats, the Southern Ocean is delightfully remote—they haul up fish nearly 1,500 kilometers from the southernmost edge of New Zealand’s territorial waters, where it’s difficult for even the closest countries to sustain regular coast guard vessel or aerial patrols. Before the STS-50 arrived on the scene, a notorious fleet of fishing vessels known as the Bandit 6 had been poaching toothfish in the Southern Ocean from 2003 to 2016. With the launch of Project Scale, Sea Shepherd began helping Interpol target the vessels and their owners, including a Spanish mafia group called Vidal Armadores. One takedown involved a 110-day chase led by a Sea Shepherd vessel across three oceans. The hunt for the illegal ship, the Thunder, ended in April 2015, when its Chilean captain intentionally sank the vessel off the west coast of Africa. Afterward, Project Scale investigators discovered the identity of the Thunder’s owner from his insurance claim, which included the loss of 32 tonnes of illegally caught toothfish. “This is how brazen they were,” says Hammarstedt. In 2015, a court in São Tomé and Príncipe, an island nation off the west coast of Africa, convicted the Thunder’s captain and two of its crew members on several charges tied to illegal fishing and collectively fined them over $17-million. By early 2016, the five other Bandit 6 vessels had met similar fates, and for a while, the Southern Ocean was free from major illegal fishing operations. With the Spanish vessels gone, the STS-50 moved in to fill the void. The STS-50 had been fishing illegally around the world at that point for eight years under a variety of names, likely selling its catch to middlemen who knew it was illegal, says Bergh of Stop Illegal Fishing. The crew would have changed often and it’s possible some would not have known their activities were criminal, but the senior officers like the Russian captain and the first mate would have been fully aware, says Bergh. It wasn’t until the fall of 2016 that authorities flagged the vessel for possible violations. After its crew unloaded what looked like toothfish in the port of Weihai, China, raising suspicions that it might have been illegally caught, officials conducted DNA testing that confirmed it was, in fact, toothfish. To legally catch toothfish, vessels must be registered in a country that is a member of CCAMLR—otherwise the catch falls into the category of “unregulated.” The STS-50 was registered to Cambodia, which is not a member. In any case, as Cambodian officials later confirmed, the boat’s registration was forged. But before anyone could stop it, the vessel fled across the Indian Ocean. In January 2017, New Zealand and Australia requested Interpol issue the purple notice, and officials in partner countries went on high alert. By this time, the vessel had been renamed the Sea Breeze and then again the Ayda. When it arrived at ports, the captain, Aleksandr Matveev, presented forged documents to obscure its identity and claimed the boat belonged to at least eight different flag states including Togo, Nigeria, and Bolivia—all countries with lax maritime laws. Registering a ship under one of these so-called flags of convenience is a common tactic used by owners of IUU fishing vessels since a ship generally falls under the jurisdiction of the flag state. The vessel’s owners disguised their identities through a convoluted network of shell companies—businesses that exist only on paper. A 2019 report by the Center to Combat Corruption and Cronyism notes that “large-scale reform is needed in the global fishing sector to improve how vessel owners report ownership information and prevent the exploitation of opaque jurisdictions and flag states.” Your browser does not support the video element. Before abandoning their pursuit of the STS-50, the Ocean Warrior crew flies a drone over the illegal vessel. Video courtesy of Sea Shepherd A year after the STS-50 left Weihai, the vessel returned to China and was arrested but fled the same day. The ship evaded authorities until February 2018, when the fisheries inspector in Madagascar found the suspicious document on board.  “Madagascar was really brilliant,” says Bergh, referring to the inspector’s decision to alert the IOTC. “They had their suspicions and sent them out.” Had they not done that, he adds, it might have taken the authorities far longer to track down the vessel. As soon as the STS-50 fled Fort Dauphin, various players, including FISH-i Africa and Stop Illegal Fishing, began tracking the vessel via its automatic identification system (AIS), which emits a location signal that can be picked up by radio equipment and satellites to help vessels avoid collisions at sea. Those groups shared that information with other players, including Jeulain at the Regional Maritime Information Fusion Center and officials in Indonesia, Australia, and New Zealand. By pooling their various intelligence sources, Jeulain says, they could increase their strategic advantage on the STS-50. “You send the ball over to another player who can bring added value to the play,” he adds. On February 27, 2018, two weeks after the STS-50 had slipped away from Madagascar, Jeulain received another email, this time from one of his contacts in Maputo. The informant said the vessel had moored near Maputo a few hours earlier. The STS-50 had not requested permission to enter Mozambican waters, and authorities boarded the vessel to inspect it. They found fishing gear, though the boat was not authorized to fish. Mozambican officials arrested the vessel, brought it to port in Maputo, and confiscated the crew’s passports—20 Indonesian, eight Russian, and two Ukrainian. But two weeks later, on March 18, the STS-50 fled again. How such a large vessel wanted for illegal fishing could have escaped from a major port remains a mystery. (A person familiar with the case refuses to speculate on what may have happened but says that Mozambique is a country where “cash is helping you a lot.”) When news of the ship’s getaway reached Gary Orr, who monitors commercial fishing for the New Zealand government, the elation he had felt when the vessel was detained was quickly replaced by crushing disappointment. “The chase and the apprehension of the bad guys is what it’s all about if you’re an investigator; it’s what you live for,” Orr says. With investigators on high alert, the STS-50 tried to evade tracking by periodically switching off its AIS and using a generic Maritime Mobile Service Identity (MMSI) number, a nine-digit code that is supposed to be unique to each vessel. With the generic identification number, the STS-50 was able to hide under other ships’ transmission signals, says Bergh, “a bit like everybody trying to talk on the same frequency on a radio.” Specialists at Trygg Mat Tracking (TMT), a Norwegian nonprofit that provides vessel tracking analysis to FISH-i Africa, were able to decipher the STS-50’s intermittent satellite signals and detect where the vessel really was. It was like playing a game of cat and mouse in an area larger than the Australian continent. On March 20, Jeulain’s phone pinged. It was a WhatsApp message from one of his regular informants, the captain of a fishing boat off the west coast of Madagascar. He had spotted the STS-50. The STS-50 was heading northeast, toward the port of Toliara on Madagascar’s west coast, just as TMT experts had thought. Bergh, who was kept abreast of the tracking efforts, concluded that, at its current speed, the vessel might be there in 14 to 16 hours. He fired off an email to Jeulain, notifying him of its likely destination. “OK Per,” Jeulain wrote back. “I have a network of informers at Tuliare [another name for Toliara] and Morombe. I will send the picture of the F/V [the STS-50] so that my network can spot it if it ever shows up.” At 63, the Ocean Warrior’s captain Mike Dicks had served as skipper on two previous Sea Shepherd campaigns. A former airline pilot in Hong Kong, Dicks was a keen sailor and had flirted with becoming a marine biologist. The previous summer, Dicks had helped arrest 15 Chinese vessels in East Timor for illegal fishing and human rights abuses. When officials from East Timor raided the boats, they found freezers jammed with sharks—many of them endangered. When Dicks received notice that the STS-50 had fled detention in Mozambique, he had to figure out where it would try to flee. Though TMT was tracking the ship, no one was certain where it was headed. “It was more of a guess-and-check type scenario,” as Orr puts it. A cyclone off the east coast of Madagascar left the STS-50 with just one likely escape route: northward up the Mozambique Channel and then east across the Indian Ocean into international waters. After leaving Madagascar, the STS-50 heads for international waters. Photo courtesy of Sea Shepherd A few days later, Dicks received position reports that the STS-50 had crossed the Mozambique Channel and was heading north along the west coast of Madagascar, as predicted. Dicks steered the Ocean Warrior southeast from Tanzania, hoping to intercept it. To conserve fuel, he kept the speed slow, gradually closing in on the STS-50 without raising suspicion in the other vessel’s crew that they were being pursued. Ahead, the STS-50 passed Comoros, off the north coast of Madagascar, and was headed east toward the international waters of the Indian Ocean—exactly as Dicks had guessed. Under the United Nations Convention on the Law of the Sea, the STS-50 was a stateless vessel due to its forged paperwork, which meant that any country could seize it in international waters. Tanzania, which had sent officers out on the Ocean Warrior, had volunteered. “That was an amazing testament to Tanzania’s commitment for fighting environmental crime,” says Sea Shepherd’s Hammarstedt. Most countries are reluctant to go after rogue vessels. Now, Tanzania, with Sea Shepherd’s help, would be responsible for bringing the STS-50 back to port and footing the bill for prosecuting the vessel. But international waters were still a long way away. To get to where Tanzanian authorities could board the STS-50, the Ocean Warrior would have to travel far into the Indian Ocean, past the territorial waters of Madagascar, Mauritius, and Seychelles—at least 1,800 kilometers from the Tanzanian coast, according to Dicks’s calculations—which put the\\xa0ship at the far edge of its fuel supply. Without enough diesel, the Ocean Warrior would have to make the return trip on its electric engine—at a much slower pace—pushing the homeward journey to 10 days. There was a chance, though, that with permission from the relevant nation, the Ocean Warrior team could arrest the STS-50 in territorial waters. A view of the Ocean Warrior’s bridge. Photo courtesy of Sea Shepherd As the chase progressed, Dicks saw that it was becoming a logistical nightmare. How would they get the STS-50 all the way back to Dar es Salaam, Tanzania’s closest major port? Only three of the Tanzanian officials aboard the Ocean Warrior were armed and they would need to guard the 25 people aboard the STS-50 for the entire journey. These are the same people who had just escaped port twice in the past four weeks. What if they were aggressive? Or had guns? Dicks was not certain he could guarantee the safety of the Tanzanians or the other 18 people aboard the Ocean Warrior. Given Dicks’s growing concerns, Tanzania requested permission from Seychelles to seize the vessel while it was in Seychellois territorial waters, but their inquiries went unanswered. By this point, the Ocean Warrior had nearly caught up to the STS-50. Dicks kept them 24 to 32 kilometers away—close enough to see the STS-50 on the radar. As they approached international waters, it was looking increasingly unlikely that they could apprehend the STS-50. The decision to turn back just beyond the island of Mauritius was “gut wrenching,” says Dicks. “We’d been chasing them for a week and we just had to let it go.” Before turning around, Dicks steered the Ocean Warrior closer to the STS-50 while the crew deployed a drone to take pictures in hopes that it would help authorities eventually identify the vessel and capture it. The STS-50 charged on toward Indonesia, on the other side of the Indian Ocean. But it had picked the wrong country to escape to. With the STS-50 cutting across the ocean, Hammarstedt messaged Mas Achmad Santosa, the head of Indonesia’s storied task force for combating illegal fishing. Since 2014, the country, which contains 17,000 islands, has blown up more than 400 illegal fishing boats. In February 2016, the Indonesian navy, with Sea Shepherd assisting, had caught the last of the Bandit 6 ships—a vessel called the Viking. A few weeks later, Indonesian officials loaded the Viking with explosives and blew it up. The illegal fishing boat known as the Viking, captured before the STS-50, in Indonesian waters. Photo by ZUMA Press, Inc./Alamy Stock Photo “This is to serve as a deterrent to others,” Susi Pudjiastuti, Indonesia’s fisheries minister at the time, told a group of reporters as she stood on the beach while the Viking smoldered behind her. “You may go freely in the rest of the world, but once entering Indonesia, this is the consequence.” To Jeulain, Bergh, Hammarstedt, and the huge network of people invested in the STS-50’s capture, the end looked to be in sight. Indonesian authorities were ready to intercept the vessel as soon as it entered its waters. Still, no one knew exactly where the STS-50 was. Without the Ocean Warrior following directly behind the vessel, they had to rely on its AIS signal to determine its location, but the STS-50 was transmitting only occasionally, likely to keep the owner abreast of its location. Whenever the STS-50 signaled, the tracking experts in the network keeping watch would estimate its course until it transmitted another signal, 48 hours or so later. “When it gets closer to shore, that’s when it gets more tense,” Bergh says. As it approached the boundary for Indonesian waters, Bergh and his collaborators anxiously awaited that final, crucial signal that would allow the Indonesian navy to intercept the vessel. The Indonesian government takes an aggressive approach to defeating illegal fishing vessels, claiming to have sunk hundreds of such ships in its waters. Photo by Januar/AFP via Getty Images “We knew it was approaching Indonesia, but we hadn’t seen it in a long time,” Bergh says, referring to an 18-hour period when the STS-50’s signal went dark. “Everyone was asking, ‘Where is it? Where is it?’” Finally, they saw it—a little blip coming toward Banda Aceh. As soon as the STS-50 entered Indonesian waters, two Indonesian navy vessels intercepted it and asked to board, which the captain and crew allowed. Usually people on board fishing vessels don’t resist, says an official who asked not to be named. Especially with Indonesia’s reputation: “How do I put it?” he says. “They’re very … efficient … with law enforcement.” On the high seas, the bad guys have almost always gotten away—a frustrating reality of the seemingly Sisyphean task of policing lawbreakers in such a vast arena. By the time the Ocean Warrior arrived back in Dar es Salaam and refueled, only four days of its originally scheduled patrol were left. Dicks steered the vessel up the Tanzanian coast toward the Kenyan border and arrested a rickety wooden boat that was smuggling migrants. “Small fry, really,” says Dicks. The STS-50 managed to\\xa0fish illegally for years because its captain had a knack for making\\xa0the ship scarce. This animation, intended to illustrate the\\xa0timeline of the STS-50’s capture, provides only an approximation of the ship’s route across the ocean. Animation by Katrina Pyne The STS-50 was not small fry, but punishing those responsible for the vessel’s crimes proved more difficult than catching it. The captain was sentenced to a mere four months in Indonesian prison and fined $14,000 by an Indonesian court for illegal fishing. The other officers were deported back to Russia and Ukraine, their home countries. Still, punishing the real perpetrators was more difficult. “To this day, we still can’t target the owners,” Pudjiastuti said at a press conference at her office in Jakarta, Indonesia, in early 2019. “The beneficial owners aren’t clear, so it’s difficult for us to track them down.” After the arrest, Interpol’s digital forensics teams pored over the intelligence contained within the fishing vessel—its on-board computer systems, navigational instruments, and the captain’s mobile phone—helping authorities piece together the wider criminal web that the vessel operated in. Rather than blow up the captured illegal vessel, Indonesia has converted the STS-50 into one of its maritime policing boats. Indonesian guards stand with crew members from the STS-50 after the ship’s capture in April 2018. Photo by AFP via Getty Images In the fisheries management world, many people see capturing illegal fishing vessels as government work. That attitude has always frustrated Bergh. If illegal vessels can easily slip between borders, capturing them requires not only governments—which tend to have limited and confidential intelligence—but also, evidently, many other players working together. “These cases are puzzles,” he says. Some organizations dedicate years to investigating certain criminals or cases—when that hard-won information is shared with other agencies, everyone benefits, he adds. For Bergh, the apprehension of the STS-50 demonstrates what is possible when governments, law enforcement, and civil society work across the political boundaries that once constrained them. And though Bergh acknowledges that stopping one vessel doesn’t turn the tide against illegal fishing, it does show that the net is tightening. Correction: A previous version of this story incorrectly stated that 312 IUU fishing vessels are in operation. The number has been updated. Cite this Article: \\n\\t\\t\\t\\t\\t\\t\\t\\t\\t\\t\\t\\t\\t\\t\\t\\t\\t\\t\\t\\t\\t\\t\\t\\t\\t\\t\\t\\t\\t\\t\\t\\t\\t\\t\\t\\t\\t\\t\\t\\t\\t\\t\\t\\t\\t\\t\\t\\t\\t\\t\\t\\t\\t\\t\\t\\t\\t\\t\\t\\t\\t\\t\\t\\t\\t\\t\\t\\t\\t\\t\\t\\t\\t\\t\\tSarah Tory\\t\\t\\t\\t\\t\\t\\t\\t\\t\\t\\t\\t\\t\\t\\t\\t\\t\\t\\t\\t\\t\\t\\t\\t\\t\\t\\t\\t\\t\\t\\t\\t\\t\\t\\t\\t\\t\\t\\t\\t\\t\\t\\t\\t\\t\\t\\t\\t\\t\\t\\t\\t\\t\\t\\t\\t\\t\\t\\t\\t\\t\\t“Catch Me If You Can: The Global Pursuit of a Fugitive Ship,” Hakai Magazine, Mar 3, 2020, accessed June 19th, 2024, https://hakaimagazine.com/features/catch-me-if-you-can/.\\n\\t\\t\\t\\t\\t\\t Jul 9, 2019 | 6,100 words, about 31 minutes Oct 18, 2022 | 7,900 words, about 40 minutes Made next to the 🌊 in Victoria, Canada - ISSN 2371-5790 Part of the Tula Foundation and Hakai Institute family.',\n",
              " \" Navigate to: Every day around the globe, fish caught far from shore are moved from fishing vessels to refrigerated cargo ships, or carrier vessels, that transport them to ports for processing. Data about these transfers—known as transshipments—and the degree to which they are conducted in line with regulatory requirements are often lacking, which can lead to illegal fish products entering the seafood supply chain. In the western and central Pacific Ocean alone, a 2016 study estimated that over US$142 million worth of illegal, unregulated, and unreported (IUU) catch is transshipped each year, most of it misreported or not reported by licensed fishing vessels.1 To gain better insight into transshipment, The Pew Charitable Trusts combined commercially available automatic identification system (AIS) data with machine learning technology to analyse the movements of carrier vessels operating in the waters regulated by the Western and Central Pacific Fisheries Commission (WCPFC) in 2016, the most recent year for which data were available. Researchers then compared this analysis with publicly available information on transshipments and carrier vessels provided by WCPFC members and the Commission’s secretariat. The resulting report, “Transshipment in the Western Pacific: Greater Understanding and Transparency of Carrier Vessel Fleet Dynamics Will Help Reform Transshipment Management,” found that the WCPFC’s management of transshipments in its waters appears to be compromised by discrepancies between required reports of transshipments by carrier vessels and the States that flag them. It appears that some transshipments were not reported, while other anomalies might stem from a lack of standardized responses. The fact that some carrier vessels don’t activate AIS—a satellite system that identifies their position and that is mandated by the International Maritime Organization for all vessels 300 gross tons and over conducting international voyages—makes it harder still for independent organisations to conduct audits and verify carrier vessels’ activities. The report’s key findings include: Pew’s analysis of AIS data found that 1,538 transshipments may have occurred on the high seas in the WCPFC Convention area in 2016 (Figure 1), but vessel operators reported only 956 high seas transshipments to the secretariat.3 In addition, over 700 more may have occurred in the exclusive economic zones (EEZs) of WCPFC member countries (Figure 2).  All told, more than 100 carrier vessels flagged to eight WCPFC members may have conducted over 2,200 transshipments at sea in the Convention area.\\xa0 And this count does not include: For a deeper dive into carrier fleet trends by flag State, Pew created heat maps (figures 3 and 4) using AIS data for each of five fleets that reported high seas transshipments in 2016. These maps represent carrier vessel traffic density, highlighting where the fleets’ movements were concentrated as they operated in the Pacific.\\xa0 Figure 3 shows the movements of 86 Panamanian-flagged carrier vessels in the central part of the Convention area, primarily in the EEZs of the Marshall Islands and Federated States of Micronesia. The red areas indicate a high number of vessel visits to Pacific ports—which probably involved transfers of skipjack tuna caught by purse seine fleets, which are required to transship in port and not on the high seas or in an EEZ. In contrast to the Panamanian-flagged carrier vessels, the movements of 16 carrier vessels flagged to Chinese Taipei were concentrated on the high seas, especially in waters of overlapping RFMO jurisdiction, which suggests that these vessels interacted more with longline fleets than purse seiners and probably transshipped bigeye and yellowfin tuna (Figure 4).\\xa0 By analysing these heat maps, Pew began to better understand the complex nature of the transshipment industry in the western and central Pacific and the variability of carrier vessel activity patterns by flag State. The report found a high concentration of potential transshipment activity where waters managed by the WCPFC overlap with those managed by the Inter-American Tropical Tuna Commission (IATTC) and the North Pacific Fisheries Commission (NPFC). In fact, over half of all AIS-detected potential high seas transshipments took place in two relatively small regions of overlapping RFMO jurisdiction: on the high seas off Japan and in the IATTC/WCPFC overlap area in the central Pacific.\\xa0  Figure 5 shows potential transshipments on the high seas off Japan by carrier vessels flagged to WCPFC members, cooperating non-members, and participating territories (collectively known as CCMs) that were authorized by both commissions to conduct this activity. Vessel movements indicated nearly 600 potential high seas transshipments involving 26 carrier vessels in the dually managed waters. But none of the vessels reported transshipments to the WCPFC. It is possible that the vessels took on only species managed by the NPFC.  Figure 6 shows potential high seas transshipments in the IATTC/WCPFC overlap area by WCPFC-authorized carrier vessels flagged to six cooperating non-members. Vessel movements indicate that as many as 216 transshipments involving 22 carrier vessels may have occurred in this relatively small area of the Pacific jointly managed by the two RFMOs.  The high number of potential transshipments in these two regions of overlapping RFMO waters increases the odds that some events and accounting of species may go unreported to the appropriate organization unless both commissions institute strong monitoring and reporting mechanisms. The WCPFC’s management of transshipment in its Convention area appears to be compromised. Data gaps, anomalies in reporting by vessels and their flag State authorities, and non-standardized responses by WCPFC members in their required reports impede accurate auditing, increasing the risk that transshipment activities go unreported and unverified.  At least five times as many authorized carrier vessels operated in WCPFC waters in 2016 than the 25 that filed transshipment reports. The movements of these other carriers while in WCPFC waters indicate that far more transshipments at sea probably occurred than were reported to the secretariat. This finding is reinforced by insufficient reporting by the flag State CCMs of carrier vessels identified as having operated in the region. Unauthorized vessels identified in these waters potentially also carried out transshipments that included transfers of WCPFC-managed species.  Lastly, the lack of transshipment data-sharing agreements with RFMOs whose waters overlap with the WCPFC’s increases the likelihood that unreported transshipments occur, which can result in the RFMOs inaccurately accounting for all species caught in the waters they manage, affecting stock assessments.  To minimize the chance of IUU catch passing through WCPFC members’ ports, its regulatory framework should be significantly strengthened and harmonized with that of other RFMOs.\\xa0 The WCPFC and other RFMOs should quickly address the report’s findings to ensure that their management of transshipment is not compromised. To improve its monitoring of this activity, the Commission should consider implementing the reforms outlined in Pew’s “Best Practices for Transshipment.”  The report represents just a starting point for making vessel operations in the Convention area more transparent. With continued research, analysis, and action, the WCPFC could become a model for effective transshipment management for other regions. \\n\\t\\t\\t\\t\\tReceive our best conservation research bi-weekly—stunning photos, wins, and action alerts.\\n\\t\\t\\t\\t \\n\\t\\t\\t\\t\\tExclusive state-policy research, infographics, and stats every two weeks.\\n\\t\\t\\t\\t Biomedical researchers are on the front lines of scientific innovation. From responding to global pandemics to pioneering lifesaving cancer treatments, these researchers push past scientific boundaries to solve pressing health challenges. For nearly 40 years, The Pew Charitable Trusts has supported more than 1,000 early-career biomedical scientists committed to this discovery. The transshipment of catch, which allows fresh fish to get to market sooner, is a vital but largely hidden part of the global commercial fishing industry. Transshipment involves hundreds of refrigerated cargo vessels, or carrier vessels, roaming the oceans, taking in catch from thousands of fishing vessels and transporting it to shore for processing. While transshipment touches a wide range of seafood products, most is made up of bigeye, yellowfin, and skipjack tuna. Salmon, mackerel, and crab also account for a substantial portion of transshipped products. Each day around the world, commercial fishing vessels pull up alongside refrigerated carrier ships to transfer valuable tuna, salmon, crab, and other marine species, which are then taken to shore for processing.  Transshipment, the transfer of fish or other marine wildlife between a fishing vessel and a carrier vessel at sea or in port, is an important part of the global commercial fishing industry. Valuable tuna species, mackerel, and crabs are among the freshly caught seafood transshipped each day in order to shorten the time it takes to get the fish from the sea to the store.&nbsp; \\n\\t\\t\\t\\t\\tReceive our best conservation research bi-weekly—stunning photos, wins, and action alerts.\\n\\t\\t\\t\\t Sign up for our four-week email course on Broadband Basics How does broadband internet reach our homes, phones, and tablets? What kind of infrastructure connects us all together? What are the major barriers to broadband access for American communities?  Sign up for our four-week email series The Race Against Resistance. Antibiotic-resistant bacteria, also known as “superbugs,” are a major threat to modern medicine. But how does resistance work, and what can we do to slow the spread? Read personal stories, expert accounts, and more for the answers to those questions in our four-week email series: Slowing Superbugs. Founded in 1948, The Pew Charitable Trusts uses data to make a difference. Pew addresses the challenges of a changing world by illuminating issues, creating common ground, and advancing ambitious projects that lead to tangible progress.  Don't miss our latest facts, findings, and survey results in The Rundown We use cookies and other technologies to help improve your browsing experience; some are necessary for the site to work, and some are optional. Learn more in ourCookie Notice. These cookies are necessary for the website to function and cannot be switched off in our systems. They are usually set only in response to actions made by you that amount to a request for services, such as setting your privacy preferences, logging in, or filling in forms. You can set your browser to block or alert you about these cookies, but some parts of the site will not then work. These cookies do not store any information that identifies you directly. These cookies allow us to count visits and traffic sources to measure and improve the performance of our site and allow third parties such as YouTube to maintain statistics about the viewing of videos hosted on their platform. They help us to understand which pages are the most and least popular and see how visitors move around the site. All information that these cookies collect is aggregated and therefore anonymous. If you do not allow these cookies, we will not know when you have visited our site and will not be able to monitor its performance.View Details\\n These cookies enable the website to provide enhanced functionality and personalization, like automatically setting language preferences. They may be set by us or by third-party providers whose services we have added to our pages. If you do not allow these cookies, then some or all of these services may not function properly. View Details  These cookies may be set through our site by our advertising partners. They may be used by those companies to build a profile of your interests and show you relevant adverts on other sites. They do not store directly personal information, but are based on uniquely identifying your browser and internet device. If you do not allow these cookies, you will experience less targeted advertising.View Details  \"]"
            ]
          },
          "execution_count": 52,
          "metadata": {},
          "output_type": "execute_result"
        }
      ],
      "source": [
        "with open('scraped-results', 'rb') as pickle_file:\n",
        "    scraped_results = pickle.load(pickle_file)\n",
        "\n",
        "scraped_results"
      ]
    },
    {
      "cell_type": "code",
      "execution_count": null,
      "metadata": {
        "id": "BYFnlA06hJfN"
      },
      "outputs": [],
      "source": [
        "!pip install -U sentence-transformers &> /dev/null"
      ]
    },
    {
      "cell_type": "code",
      "source": [
        "import spacy\n",
        "from sentence_transformers import SentenceTransformer, util\n",
        "from sentence_transformers.util import cos_sim\n",
        "from sentence_transformers.quantization import quantize_embeddings\n",
        "\n",
        "model = SentenceTransformer('sentence-transformers/all-MiniLM-L6-v2')"
      ],
      "metadata": {
        "id": "4UeF9e2UnKw_"
      },
      "execution_count": null,
      "outputs": []
    },
    {
      "cell_type": "code",
      "source": [
        "def get_score1(prompt, article):\n",
        "  embedding_1 = model.encode(prompt, convert_to_tensor=True)\n",
        "  embedding_2 = model.encode(article, convert_to_tensor=True)\n",
        "\n",
        "  similarity = util.pytorch_cos_sim(embedding_1, embedding_2).numpy()[0]\n",
        "  return similarity.max()"
      ],
      "metadata": {
        "id": "_QIwFrJAnN28"
      },
      "execution_count": null,
      "outputs": []
    },
    {
      "cell_type": "code",
      "source": [
        "prompt = \"vessel underreporting misreporting catch fish\"\n",
        "\n",
        "article = \"\"\"The South Korean-flagged trawler belonged to the fleet operated by the Sajo Oyang\n",
        "corporation, notorious for its record of high seas transgressions, as documented by The Guardian.\n",
        "In recent years, the Oyang 77 had gotten in trouble in New Zealand for illegally dumping\n",
        "dead fish overboard, underreporting catch and failing to pay workers, according to a report from\n",
        "Oceana, a nonprofit focused on ocean conservancy. In February 2019, the Argentine Coast Guard\n",
        "discovered the trawler with its nets extended inside the EEZ. They found more than 310,000 pounds\n",
        "of seafood on board. Leaving nothing to chance, they deployed a helicopter and an airplane\n",
        "to assist the Coast Guard in escorting the Oyang 77 to shore, releasing it after confiscating\n",
        "its fishing equipment and extracting a fine of 25 million Argentine pesos, or about $550,000.\"\"\"\n",
        "\n",
        "get_score1(prompt, article)"
      ],
      "metadata": {
        "id": "ABtUJ6XLnQ09"
      },
      "execution_count": null,
      "outputs": []
    },
    {
      "cell_type": "code",
      "source": [
        "spacy.cli.download(\"en_core_web_sm\")\n",
        "nlp = spacy.load(\"en_core_web_sm\")"
      ],
      "metadata": {
        "id": "5HMBeBnUnTlN"
      },
      "execution_count": null,
      "outputs": []
    },
    {
      "cell_type": "code",
      "source": [
        "doc = nlp(article)\n",
        "\n",
        "for ent in doc.ents:\n",
        "    print(ent.text, \"|\",ent.label_, \"|\", spacy.explain(ent.label_))"
      ],
      "metadata": {
        "id": "CJSABi55nVx1"
      },
      "execution_count": null,
      "outputs": []
    },
    {
      "cell_type": "code",
      "source": [
        "N = 10\n",
        "\n",
        "def get_score2(article):\n",
        "  doc = nlp(article)\n",
        "  vars = []\n",
        "  num_vars = 0\n",
        "  for ent in doc.ents:\n",
        "    if ent.label_ not in vars:\n",
        "      vars += [ent.label_]\n",
        "      num_vars += 1\n",
        "  return num_vars/N\n",
        "\n",
        "get_score2(article)"
      ],
      "metadata": {
        "id": "jY1Hgp-xnYT8"
      },
      "execution_count": null,
      "outputs": []
    },
    {
      "cell_type": "code",
      "source": [
        "def get_score(prompt, article):\n",
        "  return 0.6*get_score1(prompt, article) + 0.4*get_score2(article)"
      ],
      "metadata": {
        "id": "cPawr73xnbH6"
      },
      "execution_count": null,
      "outputs": []
    },
    {
      "cell_type": "code",
      "source": [
        "num_results = 10\n",
        "def score_prompt(prompt):\n",
        "  score = 0\n",
        "  articles = prompt_to_reports(prompt, num_results=num_results)\n",
        "  for article in articles:\n",
        "    score += get_score(prompt, article)\n",
        "  return score/num_results"
      ],
      "metadata": {
        "id": "o2boTDFQnd6q"
      },
      "execution_count": null,
      "outputs": []
    }
  ],
  "metadata": {
    "kernelspec": {
      "display_name": "ncis",
      "language": "python",
      "name": "python3"
    },
    "language_info": {
      "codemirror_mode": {
        "name": "ipython",
        "version": 3
      },
      "file_extension": ".py",
      "mimetype": "text/x-python",
      "name": "python",
      "nbconvert_exporter": "python",
      "pygments_lexer": "ipython3",
      "version": "3.11.9"
    },
    "colab": {
      "provenance": []
    }
  },
  "nbformat": 4,
  "nbformat_minor": 0
}