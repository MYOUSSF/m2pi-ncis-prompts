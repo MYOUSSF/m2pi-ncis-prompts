{
 "cells": [
  {
   "cell_type": "code",
   "execution_count": 72,
   "metadata": {},
   "outputs": [],
   "source": [
    "import warnings\n",
    "import pandas as pd"
   ]
  },
  {
   "cell_type": "markdown",
   "metadata": {},
   "source": [
    "# Generating Prompts Using Structure and Synonyms\n",
    "\n",
    "In this notebook, we demonstrate a protocol for generating search engine prompts of a given structure. We propose that prompts should be of the form \"Watercraft\" + \"Crime\" + \"Consequence\" + \"Specifics\" where each term in the sequence is randomly generated from a list of keywords. The \"Specifics\" term should be optional and can be used to generate prompts that can yield more specific incident reports. Examples of specific information that could be included are types of fish and geographic areas.\n",
    "\n",
    "## Generating Keyword Lists for Each Term\n",
    "\n",
    "Our first step is to generate lists of keywords for each term in our prompt. To this end, we use the database WordNet to find large lists of synonyms and related words for each term. WordNet is accessed in Python using the `nltk` library."
   ]
  },
  {
   "cell_type": "code",
   "execution_count": 2,
   "metadata": {},
   "outputs": [
    {
     "name": "stderr",
     "output_type": "stream",
     "text": [
      "[nltk_data] Downloading package wordnet to\n",
      "[nltk_data]     /Users/jackkendrick/nltk_data...\n",
      "[nltk_data]   Package wordnet is already up-to-date!\n"
     ]
    }
   ],
   "source": [
    "import nltk\n",
    "nltk.download('wordnet')\n",
    "from nltk.corpus import wordnet as wn"
   ]
  },
  {
   "cell_type": "markdown",
   "metadata": {},
   "source": [
    "We will use WordNet in the following way: First, we manually decide on the highest level of abstraction for each term that we should consider and then generate all synonyms of this word. In the case that a term has many meanings, each different usage is encoded as a separate entity within WordNet and so we must be careful to use the correct one. Once we have found all synonyms, we then find all 'hyponyms' (words with more specific meanings) of our term to form a keyword list.\n",
    "\n",
    "First, we will generate a list of words for watercraft using WordNet. The highest level of abstraction we will consider here is \"Craft\". "
   ]
  },
  {
   "cell_type": "code",
   "execution_count": 26,
   "metadata": {},
   "outputs": [
    {
     "name": "stderr",
     "output_type": "stream",
     "text": [
      "/Users/jackkendrick/anaconda3/envs/ncis/lib/python3.11/site-packages/nltk/corpus/reader/wordnet.py:604: UserWarning: Discarded redundant search for Synset('stealth_bomber.n.01') at depth 5\n",
      "  for synset in acyclic_breadth_first(self, rel, depth):\n",
      "/Users/jackkendrick/anaconda3/envs/ncis/lib/python3.11/site-packages/nltk/corpus/reader/wordnet.py:604: UserWarning: Discarded redundant search for Synset('stealth_fighter.n.01') at depth 5\n",
      "  for synset in acyclic_breadth_first(self, rel, depth):\n"
     ]
    },
    {
     "data": {
      "text/plain": [
       "[Synset('vessel.n.02'),\n",
       " Synset('bareboat.n.01'),\n",
       " Synset('boat.n.01'),\n",
       " Synset('fishing_boat.n.01'),\n",
       " Synset('galley.n.01'),\n",
       " Synset('galley.n.02'),\n",
       " Synset('iceboat.n.02'),\n",
       " Synset('patrol_boat.n.01'),\n",
       " Synset('sailing_vessel.n.01'),\n",
       " Synset('ship.n.01'),\n",
       " Synset('shrimper.n.01'),\n",
       " Synset('weather_ship.n.01'),\n",
       " Synset('yacht.n.01'),\n",
       " Synset('trawler.n.02')]"
      ]
     },
     "execution_count": 26,
     "metadata": {},
     "output_type": "execute_result"
    }
   ],
   "source": [
    "craft = wn.synsets('craft', 'n')[1]               # A synset is a collection of synonyms in WordNet - the function synsets generates a synset for each\n",
    "hypos = lambda s:s.hyponyms()                       # meaning of the word. In our case, the relevant meaning of 'vessel' is given in the second synset\n",
    "\n",
    "craft_hyponyms = list(craft.closure(hypos))              # The function hypos retrives all hyponyms from a synset. The function closure ensures we see all related terms.\n",
    "\n",
    "for hypo in craft_hyponyms[:]:\n",
    "    if wn.synset('fishing_boat.n.01').path_similarity(hypo) < 0.3:      # Here we are making sure that our keywords stay relevant. The similarity parameter can be changed.\n",
    "        craft_hyponyms.remove(hypo)\n",
    "\n",
    "craft_hyponyms"
   ]
  },
  {
   "cell_type": "markdown",
   "metadata": {},
   "source": [
    "The above code generates a list of relevant terms as a collection of 'synsets'. We can access each word in the set as follows:"
   ]
  },
  {
   "cell_type": "code",
   "execution_count": 101,
   "metadata": {},
   "outputs": [],
   "source": [
    "craft_keywords = set()                        # We are using the set object to ensure that no word is added to our list twice.\n",
    "\n",
    "for hypo in craft_hyponyms:\n",
    "    for l in hypo.lemmas():\n",
    "        name = l.name().replace('_', ' ')\n",
    "        craft_keywords.add(name)\n",
    "\n",
    "craft_keywords=list(craft_keywords)"
   ]
  },
  {
   "cell_type": "markdown",
   "metadata": {},
   "source": [
    "We now repeat similar processes for consequences and other specific information. The following function can be used to automate this process:"
   ]
  },
  {
   "cell_type": "code",
   "execution_count": 102,
   "metadata": {},
   "outputs": [],
   "source": [
    "def get_synonyms(concept:str, abst:int, control:str = None, control_param:float = None) -> list:\n",
    "    '''\n",
    "    Function for getting synonyms at varying levels of abstraction.\n",
    "\n",
    "    concept : Concept as defined in WordNet. Should be of the form word.n.01.\n",
    "    abst : Levels of abstraction. Function will generate synonyms by finding hypernyms at this level of abstraction.\n",
    "    control : A base concept that generated synonyms should be similar to. If None, function will return all generated synonyms.\n",
    "    control_param : Parameter for how similar synonyms should be to control. Should be a value between 0 and 1 smaller values allowing for less similarity.\n",
    "\n",
    "    Returns list of generated synonyms as strings.\n",
    "    '''\n",
    "\n",
    "    warnings.filterwarnings('ignore') \n",
    "    \n",
    "    syn = wn.synset(concept)\n",
    "    for _ in range(abst):\n",
    "        if len(syn.hypernyms()) >0:\n",
    "            syn = syn.hypernyms()[0]\n",
    "\n",
    "    hypos = lambda s:s.hyponyms()                       \n",
    "    hyponyms = list(syn.closure(hypos))\n",
    "\n",
    "    if control != None:   \n",
    "        for hypo in hyponyms[:]:\n",
    "            if wn.synset(control).path_similarity(hypo) < control_param:\n",
    "                hyponyms.remove(hypo)\n",
    "\n",
    "    words = set()                        \n",
    "\n",
    "    for hypo in hyponyms:\n",
    "        for l in hypo.lemmas():\n",
    "            name = l.name().replace('_', ' ')\n",
    "            words.add(name)\n",
    "\n",
    "    return list(words)\n",
    "    "
   ]
  },
  {
   "cell_type": "markdown",
   "metadata": {},
   "source": [
    "One issue with this function is that it requires the user to specify as concept as it is stored in WordNet. It is possible that this can be fixed later.\n",
    "\n",
    "We now use the above function to generate synonyms for consequences and some specifics that may be included in our prompts."
   ]
  },
  {
   "cell_type": "code",
   "execution_count": 103,
   "metadata": {},
   "outputs": [],
   "source": [
    "consequences = ['arrest.n.01', 'hearing.n.01', 'trial.n.04', 'fine.n.01']\n",
    "abstractions = 2\n",
    "similarity = 0.5\n",
    "\n",
    "consequence_kw = []\n",
    "\n",
    "for consequence in consequences:\n",
    "    consequence_kw.extend(get_synonyms(consequence, abstractions, consequence, similarity))\n"
   ]
  },
  {
   "cell_type": "code",
   "execution_count": 104,
   "metadata": {},
   "outputs": [],
   "source": [
    "for hypo in wn.synset('international_waters.n.01').closure(hypos):\n",
    "    for l in hypo.lemmas():\n",
    "        print(l.name())"
   ]
  },
  {
   "cell_type": "code",
   "execution_count": 105,
   "metadata": {},
   "outputs": [],
   "source": [
    "specifics = ['seafood.n.01', 'water.n.02']\n",
    "abstractions = 1\n",
    "similarity = 0.5\n",
    "\n",
    "specifics_kw = []\n",
    "\n",
    "for specific in specifics:\n",
    "    specifics_kw.extend(get_synonyms(specific, abstractions, specific, similarity))"
   ]
  },
  {
   "cell_type": "markdown",
   "metadata": {},
   "source": [
    "We use a different method to generate the types of crimes that are in the category of underreporting/misreporting fishing catches. In the future, we hope that LLMs can be used to extract specific crimes from incident reports and these crimes can be used to create new prompts. In the mean time, we use a list of sample prompts and directly strip the crimes from them."
   ]
  },
  {
   "cell_type": "code",
   "execution_count": 164,
   "metadata": {},
   "outputs": [],
   "source": [
    "sample_prompts = pd.read_csv('sample-prompts.csv')\n",
    "strip_vc = lambda prompt : prompt.split('Vessel caught ')[1]\n",
    "crimes = list(set(sample_prompts['Prompt'].apply(strip_vc).values))"
   ]
  },
  {
   "cell_type": "markdown",
   "metadata": {},
   "source": [
    "## Generating Prompts Using Keywords\n",
    "\n",
    "Now for the fun part: Actually generating the prompts. We will generate a collection of prompts randomly using the keyword lists generated above. The following function will generate a specified number of prompts, with a user specified proportion being specific (i.e. includes either a geographic area or type of fish) with the remaining prompts being more general."
   ]
  },
  {
   "cell_type": "code",
   "execution_count": 165,
   "metadata": {},
   "outputs": [],
   "source": [
    "import numpy as np"
   ]
  },
  {
   "cell_type": "code",
   "execution_count": 166,
   "metadata": {},
   "outputs": [],
   "source": [
    "def get_prompts(n:int, spec_prop:float) -> list:\n",
    "    '''\n",
    "    Generates a list of prompts with a proportion containing extra specific information.\n",
    "\n",
    "    n : Number of prompts to be generated\n",
    "    spec_prop : Proportion of prompts that should be specific. Float between 0 and 1\n",
    "\n",
    "    Returns list of prompts as strings.\n",
    "    '''\n",
    "\n",
    "    prompts = []\n",
    "\n",
    "    for _ in range(int(np.floor(n*(spec_prop)))):\n",
    "        prompts.append(craft_keywords[np.random.randint(0, len(craft_keywords))] + ' ' + crimes[np.random.randint(0, len(crimes))] + ' ' \n",
    "                       + consequence_kw[np.random.randint(0, len(consequence_kw))] + ' ' + specifics_kw[np.random.randint(0, len(specifics_kw))])\n",
    "\n",
    "    for _ in range(int(n-np.floor(n*(spec_prop)))):\n",
    "        prompts.append(craft_keywords[np.random.randint(0, len(craft_keywords))] + ' ' + crimes[np.random.randint(0, len(crimes))] + ' ' \n",
    "                       + consequence_kw[np.random.randint(0, len(consequence_kw))])\n",
    "\n",
    "    return prompts"
   ]
  },
  {
   "cell_type": "code",
   "execution_count": 167,
   "metadata": {},
   "outputs": [],
   "source": [
    "prompts = get_prompts(100, 0.2)"
   ]
  },
  {
   "cell_type": "markdown",
   "metadata": {},
   "source": [
    "## Searching the Web\n",
    "\n",
    "We can now pass our prompts to a search engine and get links for the top results. To run this code, you must have a Google API key and a Custom Search Engine ID. Since these IDs should not be shared, I have my personal keys stored in a local file and import them below using some custom functions.\n",
    "\n",
    "The code below was adapted from [this post on StackOverflow](https://stackoverflow.com/questions/37083058/programmatically-searching-google-in-python-using-custom-search) and you can find instructions for generating your own API and Custome Search Enginer keys there."
   ]
  },
  {
   "cell_type": "code",
   "execution_count": 168,
   "metadata": {},
   "outputs": [],
   "source": [
    "from googleapiclient.discovery import build\n",
    "from googleapi import google_api_key, search_engine_id          # This is a local file that contains my personal API key and search engine ID.\n",
    "\n",
    "\n",
    "my_api_key = google_api_key()\n",
    "my_cse_id = search_engine_id()"
   ]
  },
  {
   "cell_type": "markdown",
   "metadata": {},
   "source": [
    "The functions below define a custom search engine using the API key and Custom Search Engine ID and then returns the top 10 results as links."
   ]
  },
  {
   "cell_type": "code",
   "execution_count": 175,
   "metadata": {},
   "outputs": [],
   "source": [
    "def google_search(search_term, api_key, cse_id, **kwargs):\n",
    "    service = build(\"customsearch\", \"v1\", developerKey=api_key)\n",
    "    res = service.cse().list(q=search_term, cx=cse_id, **kwargs).execute()\n",
    "\n",
    "    if 'items' in res.keys():\n",
    "        return res['items']\n",
    "\n",
    "def get_links(prompt:str, api_key:str, cse_id:str, n=10):\n",
    "    '''\n",
    "    Takes in a search prompt and returns the top n results as links.\n",
    "\n",
    "    prompt : Search query.\n",
    "    api_key : Personal API key for accessing Google.\n",
    "    cse_id : Custom Search Engine ID\n",
    "    n : Number of results to return.\n",
    "\n",
    "    Returns results as a list of urls.\n",
    "    '''\n",
    "\n",
    "    links =[]\n",
    "\n",
    "    results = google_search(prompt, api_key, cse_id, num=n)\n",
    "    if results != None:\n",
    "        for result in results:\n",
    "            links.append(result['link'])\n",
    "\n",
    "    return links"
   ]
  },
  {
   "cell_type": "markdown",
   "metadata": {},
   "source": [
    "We now iterate the process of searching and retrieving links over a long list of prompts. We store the links as a set so that no links are repeated."
   ]
  },
  {
   "cell_type": "code",
   "execution_count": 178,
   "metadata": {},
   "outputs": [],
   "source": [
    "links = set()\n",
    "\n",
    "for prompt in list(sample_prompts['Prompt'].values):\n",
    "    results = get_links(prompt, my_api_key, my_cse_id, 3)\n",
    "    if results != None:\n",
    "        for result in results:\n",
    "            links.add(result)"
   ]
  },
  {
   "cell_type": "code",
   "execution_count": 179,
   "metadata": {},
   "outputs": [
    {
     "data": {
      "text/plain": [
       "{'https://news.google.com/__i/rss/rd/articles/CBMiK2h0dHBzOi8vd3d3LmhhemFyZHMub3JnL25ld3MvMjAxMC9pbmRleC5odG3SAQA?oc=5',\n",
       " 'https://news.google.com/__i/rss/rd/articles/CBMiK2h0dHBzOi8vd3d3LnlvdXR1YmUuY29tL3dhdGNoP3Y9M043TDhYaGt6cW_SAQA?oc=5',\n",
       " 'https://news.google.com/__i/rss/rd/articles/CBMiK2h0dHBzOi8vd3d3LnlvdXR1YmUuY29tL3dhdGNoP3Y9RTlFa085VXFoOUXSAQA?oc=5',\n",
       " 'https://news.google.com/__i/rss/rd/articles/CBMiK2h0dHBzOi8vd3d3LnlvdXR1YmUuY29tL3dhdGNoP3Y9U3otNmpScmJ0dUnSAQA?oc=5',\n",
       " 'https://news.google.com/__i/rss/rd/articles/CBMiK2h0dHBzOi8vd3d3LnlvdXR1YmUuY29tL3dhdGNoP3Y9Uk1oMVpLY0h1WUnSAQA?oc=5',\n",
       " 'https://news.google.com/__i/rss/rd/articles/CBMiK2h0dHBzOi8vd3d3LnlvdXR1YmUuY29tL3dhdGNoP3Y9V0o5LXhONmRDVzTSAQA?oc=5',\n",
       " 'https://news.google.com/__i/rss/rd/articles/CBMiK2h0dHBzOi8vd3d3LnlvdXR1YmUuY29tL3dhdGNoP3Y9Y0dhd1NPdXViQTDSAQA?oc=5',\n",
       " 'https://news.google.com/__i/rss/rd/articles/CBMiK2h0dHBzOi8vd3d3LnlvdXR1YmUuY29tL3dhdGNoP3Y9Z2EzUmo5b2FNV0HSAQA?oc=5',\n",
       " 'https://news.google.com/__i/rss/rd/articles/CBMiK2h0dHBzOi8vd3d3LnlvdXR1YmUuY29tL3dhdGNoP3Y9bzQ1NTJ0YWRldU3SAQA?oc=5',\n",
       " 'https://news.google.com/__i/rss/rd/articles/CBMiK2h0dHBzOi8vd3d3LnlvdXR1YmUuY29tL3dhdGNoP3Y9c2FaQ3owMVdTTzTSAQA?oc=5',\n",
       " 'https://news.google.com/__i/rss/rd/articles/CBMiK2h0dHBzOi8vd3d3LnlvdXR1YmUuY29tL3dhdGNoP3Y9ekJqVkRDOHRNZW_SAQA?oc=5',\n",
       " 'https://news.google.com/__i/rss/rd/articles/CBMiKGh0dHBzOi8vZmlzaGlub2MuY29tL2dyZWF0LWluc2hvcmUtYml0ZS_SAQA?oc=5',\n",
       " 'https://news.google.com/__i/rss/rd/articles/CBMiKGh0dHBzOi8vd3d3LmRlYy5ueS5nb3YvcHJlc3MvMTI1NjE2Lmh0bWzSAQA?oc=5',\n",
       " 'https://news.google.com/__i/rss/rd/articles/CBMiL2h0dHBzOi8vd3d3LnBuYXMub3JnL2NvbnRlbnQvMTE4LzM0L2UyMTAwNjk1MTE40gEA?oc=5',\n",
       " 'https://news.google.com/__i/rss/rd/articles/CBMiLWh0dHBzOi8vdGltZS5jb20vNjI0MzczOC90ZW11LWFwcC1jb21wbGFpbnRzL9IBAA?oc=5',\n",
       " 'https://news.google.com/__i/rss/rd/articles/CBMiMWh0dHBzOi8vaGFrYWltYWdhemluZS5jb20vZmVhdHVyZXMvbXVyZGVyLWF0LXNlYS_SAQA?oc=5',\n",
       " 'https://news.google.com/__i/rss/rd/articles/CBMiMmh0dHBzOi8vd3d3LnVtYXNzZC5lZHUvY2FyZWVyL3N0dWRlbnRzL25ldHdvcmtpbmcv0gEA?oc=5',\n",
       " 'https://news.google.com/__i/rss/rd/articles/CBMiNGh0dHBzOi8vaG9tZS50cmVhc3VyeS5nb3YvbmV3cy9wcmVzcy1yZWxlYXNlcy9qeTExNTTSAQA?oc=5',\n",
       " 'https://news.google.com/__i/rss/rd/articles/CBMiNGh0dHBzOi8vaG9tZS50cmVhc3VyeS5nb3YvbmV3cy9wcmVzcy1yZWxlYXNlcy9qeTExNTXSAQA?oc=5',\n",
       " 'https://news.google.com/__i/rss/rd/articles/CBMiNGh0dHBzOi8vd3d3LnRpbWVzb2Zpc3JhZWwuY29tL2xpdmVibG9nLW1hcmNoLTMtMjAyMi_SAQA?oc=5',\n",
       " 'https://news.google.com/__i/rss/rd/articles/CBMiNWh0dHBzOi8vbmV3c2ludGVyYWN0aXZlcy5jYmMuY2EvbG9uZ2Zvcm0vY2hpbmEtYXQtc2Vh0gEA?oc=5',\n",
       " 'https://news.google.com/__i/rss/rd/articles/CBMiNWh0dHBzOi8vd3d3Lmdvdi5zY290L3B1YmxpY2F0aW9ucy9ub3J0aC1zZWEtY29kLXBsYW4v0gEA',\n",
       " 'https://news.google.com/__i/rss/rd/articles/CBMiNmh0dHBzOi8vbXlmd2MuY29tL25ld3MvYWxsLW5ld3MvcHl0aG9uLWNoYWxsZW5nZS0xMDIyL9IBAA?oc=5',\n",
       " 'https://news.google.com/__i/rss/rd/articles/CBMiNmh0dHBzOi8vd3d3LnNvbGFycXVvdGVzLmNvbS5hdS9ibG9nL2J5ZC1hdHRvLTMtcmV2aWV3L9IBAA?oc=5',\n",
       " 'https://news.google.com/__i/rss/rd/articles/CBMiO2h0dHBzOi8vbGliZ3VpZGVzLmFzdS5lZHUvTWFyY2hNYW1tYWxNYWRuZXNzLzIwMjJNTU1SZXN1bHRz0gEA?oc=5',\n",
       " 'https://news.google.com/__i/rss/rd/articles/CBMiO2h0dHBzOi8vc2NyZWVucmFudC5jb20vY2FwdGFpbi1qYWNrLXNwYXJyb3ctZ3JlYXRlc3QtbGluZXMv0gE_aHR0cHM6Ly9zY3JlZW5yYW50LmNvbS9jYXB0YWluLWphY2stc3BhcnJvdy1ncmVhdGVzdC1saW5lcy9hbXAv?oc=5',\n",
       " 'https://news.google.com/__i/rss/rd/articles/CBMiO2h0dHBzOi8vd3d3LmNpdHktam91cm5hbC5vcmcvZGlzbmV5cy1jaGlsZC1wcmVkYXRvci1wcm9ibGVt0gEA?oc=5',\n",
       " 'https://news.google.com/__i/rss/rd/articles/CBMiO2h0dHBzOi8vd3d3LmhhdGNobWFnLmNvbS9hcnRpY2xlcy91cmJhbi1mbHktZmlzaGluZy83NzE1NjA40gEA?oc=5',\n",
       " 'https://news.google.com/__i/rss/rd/articles/CBMiOmh0dHBzOi8vb25lbWlsZWF0YXRpbWUuY29tL2luc2lnaHRzL2x1ZnRoYW5zYS1kZWxheWVkLWJhZy_SAQA?oc=5',\n",
       " 'https://news.google.com/__i/rss/rd/articles/CBMiP2h0dHBzOi8vd3d3LmZ0LmNvbS9jb250ZW50L2E3Y2JjM2I3LWYzYjMtNDQ1Yy1iZjY0LTUxY2VkZDVlOWEyOdIBAA?oc=5',\n",
       " 'https://news.google.com/__i/rss/rd/articles/CBMiP2h0dHBzOi8vd3d3LmZ0LmNvbS9jb250ZW50L2Y1ZTllNWU4LTVmODQtNDkyMy1iODEwLTVkZjg2YTZmYTdjNtIBAA?oc=5',\n",
       " 'https://news.google.com/__i/rss/rd/articles/CBMiPmh0dHBzOi8vd3Nkb3Qud2EuZ292L3RyYXZlbC9yb2Fkcy1icmlkZ2VzL2hvdi1sYW5lcy9ob3YtcG9saWN50gEA?oc=5',\n",
       " 'https://news.google.com/__i/rss/rd/articles/CBMiPmh0dHBzOi8vd3d3LnNjaWVuY2VkYWlseS5jb20vcmVsZWFzZXMvMjAyMi8xMS8yMjExMDIxNDEzNDkuaHRt0gEA?oc=5',\n",
       " 'https://news.google.com/__i/rss/rd/articles/CBMiQGh0dHBzOi8vd3d3LmNic25ld3MuY29tL25ld3MvaW1taWdyYXRpb24tYmlkZW4tdXMtbWV4aWNvLWJvcmRlci_SAQA?oc=5',\n",
       " 'https://news.google.com/__i/rss/rd/articles/CBMiQmh0dHBzOi8vd3d3LmNiYy5jYS9uZXdzL2J1c2luZXNzL21hcmtldHBsYWNlLWNoZWF0LXNoZWV0LTEuNjMxNTE0NtIBAA?oc=5',\n",
       " 'https://news.google.com/__i/rss/rd/articles/CBMiR2h0dHBzOi8vd3d3LmVhdGVyLmNvbS8yMzQ3MzcxNy90aGUtbWVudS1tb3ZpZS1lbmRpbmctc3BvaWxlcnMtZXhwbGFpbmVk0gEA?oc=5',\n",
       " 'https://news.google.com/__i/rss/rd/articles/CBMiR2h0dHBzOi8vd3d3LmhhdGNobWFnLmNvbS9hcnRpY2xlcy9jYXRjaGluZy1wYWNpZmljLXNhaWxmaXNoLWZseS83NzE1NTQx0gEA?oc=5',\n",
       " 'https://news.google.com/__i/rss/rd/articles/CBMiRWh0dHBzOi8vd3d3LmNiYy5jYS9uZXdzL2J1c2luZXNzL21hcmtldHBsYWNlLW1vcnRnYWdlLWZyYXVkLTEuNjYxNDEzMtIBAA?oc=5',\n",
       " 'https://news.google.com/__i/rss/rd/articles/CBMiRWh0dHBzOi8vd3d3LmlkYWhvc3RhdGVzbWFuLmNvbS9vdXRkb29ycy9maXNoaW5nL2FydGljbGUyNjUyMTY4MTYuaHRtbNIBAA?oc=5',\n",
       " 'https://news.google.com/__i/rss/rd/articles/CBMiRmh0dHBzOi8vd3d3Lm55dGltZXMuY29tLzIwMjEvMDYvMDkvdXMvcGVudGFnb24tcGFwZXJzLXZpZXRuYW0td2FyLmh0bWzSAQA?oc=5',\n",
       " 'https://news.google.com/__i/rss/rd/articles/CBMiS2h0dHBzOi8vY2FsZ2FyeS5jdHZuZXdzLmNhL2NhbGdhcnktbWFuLWZpbmVkLTY0M2stZm9yLXRheC1ldmFzaW9uLTEuNTgzOTgxNNIBAA?oc=5',\n",
       " 'https://news.google.com/__i/rss/rd/articles/CBMiS2h0dHBzOi8vd3d3LmNubi5jb20vaW50ZXJhY3RpdmUvMjAyMS8xMC90cmF2ZWwvZG9nLWlzdGFuYnVsLWJvamktY25ucGhvdG9zL9IBAA?oc=5',\n",
       " 'https://news.google.com/__i/rss/rd/articles/CBMiS2h0dHBzOi8vd3d3LndpcmVkMmZpc2guY29tL2hhcmQtYmFpdHMvc3RyaWtlLWtpbmctYnV6ei1raW5nLWJ1enpiYWl0LXJldmlld9IBAA?oc=5',\n",
       " 'https://news.google.com/__i/rss/rd/articles/CBMiSmh0dHBzOi8vd3d3Lmdsb2JhbHRpbWVzLmNuL3NwZWNpYWwtY292ZXJhZ2UvVWtyYWluZS1UZW5zaW9ucy1UaW1lbGluZS5odG1s0gEA?oc=5',\n",
       " 'https://news.google.com/__i/rss/rd/articles/CBMiSmh0dHBzOi8vd3d3Lmhlcml0YWdlLm9yZy9kZWZlbnNlL2NvbW1lbnRhcnkvdGhlLXJpc2Utd29rZW5lc3MtdGhlLW1pbGl0YXJ50gEA?oc=5',\n",
       " 'https://news.google.com/__i/rss/rd/articles/CBMiSmh0dHBzOi8vd3d3LnByb3B1YmxpY2Eub3JnL2FydGljbGUvYm9uaG9tbWUtcmljaGFyZC1maXJlLW5hdnktbWF5cy12ZXJkaWN00gEA?oc=5',\n",
       " 'https://news.google.com/__i/rss/rd/articles/CBMiT2h0dHBzOi8vc2xhdGUuY29tL2N1bHR1cmUvMjAyMi8wNy9mb3ItYWxsLW1hbmtpbmQtc2Vhc29uLTMtYXBwbGUtdHYtZGVhdGhzLmh0bWzSAQA?oc=5',\n",
       " 'https://news.google.com/__i/rss/rd/articles/CBMiTGh0dHBzOi8vd3d3LmNiYy5jYS9uZXdzL2NhbmFkYS9jaGVhdGluZy1maXNoaW5nLXRvdXJuYW1lbnRzLWNhbmFkYS0xLjY2MDY5MjTSASBodHRwczovL3d3dy5jYmMuY2EvYW1wLzEuNjYwNjkyNA?oc=5/',\n",
       " 'https://news.google.com/__i/rss/rd/articles/CBMiTWh0dHBzOi8vd3d3LmNiYy5jYS9uZXdzL2NhbmFkYS9kZWxpdmVyeS1vbmxpbmUtbG9zdC1wYWNrYWdlcy1yZXRhaWwtMS41Nzk4NTU20gEgaHR0cHM6Ly93d3cuY2JjLmNhL2FtcC8xLjU3OTg1NTY?oc=5',\n",
       " 'https://news.google.com/__i/rss/rd/articles/CBMiTmh0dHBzOi8vcGh5cy5vcmcvbmV3cy8yMDI0LTAyLWJyZXhpdC1zcGF0aWFsLXJlc3RyaWN0aW9ucy1yZXZlYWwtYWxhcm1pbmcuaHRtbNIBAA',\n",
       " 'https://news.google.com/__i/rss/rd/articles/CBMiUGh0dHBzOi8vd3d3LmJiYy5jb20vY3VsdHVyZS9hcnRpY2xlLzIwMjIwNzE0LXRoZS11Zm8tc2lnaHRpbmdzLXRoYXQtc3dlcHQtdGhlLXVz0gEA?oc=5',\n",
       " 'https://news.google.com/__i/rss/rd/articles/CBMiUGh0dHBzOi8vd3d3LmRjcmFpbm1ha2VyLmNvbS8yMDIxLzAyL2dhcm1pbi1lbmR1cm8tZ3BzLXdhdGNoLWluLWRlcHRoLXJldmlldy5odG1s0gFUaHR0cHM6Ly93d3cuZGNyYWlubWFrZXIuY29tLzIwMjEvMDIvZ2FybWluLWVuZHVyby1ncHMtd2F0Y2gtaW4tZGVwdGgtcmV2aWV3Lmh0bWwvYW1w?oc=5',\n",
       " 'https://news.google.com/__i/rss/rd/articles/CBMiUWh0dHBzOi8vd3d3LmZvcmJlcy5jb20vYWR2aXNvci9hdS9pbnZlc3RpbmcvY3J5cHRvY3VycmVuY3kvY3J5cHRvLW5ld3MtYXVzdHJhbGlhL9IBAA?oc=5',\n",
       " 'https://news.google.com/__i/rss/rd/articles/CBMiUmh0dHBzOi8vd3d3Lm55dGltZXMuY29tLzIwMjIvMDMvMTUvYnVzaW5lc3MvZXZlci1mb3J3YXJkLXN0dWNrLWNoZXNhcGVha2UtYmF5Lmh0bWzSAQA?oc=5',\n",
       " 'https://news.google.com/__i/rss/rd/articles/CBMiUmh0dHBzOi8vd3d3Lm55dGltZXMuY29tLzIwMjIvMTEvMDQvdGVjaG5vbG9neS90aWt0b2stZGVlcGZha2VzLWRpc2luZm9ybWF0aW9uLmh0bWzSAQA?oc=5',\n",
       " 'https://news.google.com/__i/rss/rd/articles/CBMiV2h0dHBzOi8vbWlzc2lvbmxvY2FsLm9yZy8yMDIyLzExL2tpbGxlci1yb2JvdHMtdG8tYmUtcGVybWl0dGVkLXVuZGVyLXNmcGQtZHJhZnQtcG9saWN5L9IBAA?oc=5',\n",
       " 'https://news.google.com/__i/rss/rd/articles/CBMiVGh0dHBzOi8vd3d3LmNiYy5jYS9uZXdzL2NhbmFkYS9ub3ZhLXNjb3RpYS9tY2MtZ3VubWFuLWZpbmFuY2lhbC1taXNkZWFsaW5nLTEuNjUyNDM4NdIBAA?oc=5',\n",
       " 'https://news.google.com/__i/rss/rd/articles/CBMiVWh0dHBzOi8vd3d3LmNiYy5jYS9yYWRpby9jb3N0b2ZsaXZpbmcvYWlyLXRyYXZlbGxlcnMtcGFpZC10by1jYXJyeS1wYWNrYWdlcy0xLjY2MTY4OTPSASBodHRwczovL3d3dy5jYmMuY2EvYW1wLzEuNjYxNjg5Mw?oc=5',\n",
       " 'https://news.google.com/__i/rss/rd/articles/CBMiVWh0dHBzOi8vd3d3LnNhbHR3YXRlcnNwb3J0c21hbi5jb20vaG93dG8vbWFrZS10aGUtcGVyZmVjdC1vZmZzaG9yZS1sZWFkZXItY29ubmVjdGlvbi_SAQA',\n",
       " 'https://news.google.com/__i/rss/rd/articles/CBMiVWh0dHBzOi8vd3d3LnRoZXZlcmdlLmNvbS8yMDIyLzUvMi8yMzAzMjM1NC9yb2NrZXQtbGFiLWhlbGljb3B0ZXItY2F0Y2gtZWxlY3Ryb24tcmV1c2XSAQA?oc=5',\n",
       " 'https://news.google.com/__i/rss/rd/articles/CBMiVmh0dHBzOi8vd3d3LmNiYy5jYS9uZXdzL3dvcmxkL2dhbGFwYWdvcy1pbGxlZ2FsLWZpc2hpbmctc2F0ZWxsaXRlLXRlY2hub2xvZ3ktMS42NDY5NDI00gEA?oc=5',\n",
       " 'https://news.google.com/__i/rss/rd/articles/CBMiVmh0dHBzOi8vd3d3LmRjcmFpbm1ha2VyLmNvbS8yMDIyLzA5L2FwcGxlLXdhdGNoLXVsdHJhLWluLWRlcHRoLXJldmlldy1pdHMtYS1zdGFydC5odG1s0gFaaHR0cHM6Ly93d3cuZGNyYWlubWFrZXIuY29tLzIwMjIvMDkvYXBwbGUtd2F0Y2gtdWx0cmEtaW4tZGVwdGgtcmV2aWV3LWl0cy1hLXN0YXJ0Lmh0bWwvYW1w?oc=5',\n",
       " 'https://news.google.com/__i/rss/rd/articles/CBMiVmh0dHBzOi8vd3d3LnRoZWd1YXJkaWFuLmNvbS91cy1uZXdzLzIwMjIvYXByLzA0L2V2ZXItZm9yd2FyZC1zdHVjay1zaGlwLWNoZXNhcGVha2UtYmF50gEA?oc=5',\n",
       " 'https://news.google.com/__i/rss/rd/articles/CBMiW2h0dHBzOi8vY29hc3RhbHJldmlldy5vcmcvMjAyMi8wOC90aXJlc29tZS1pc3N1ZS13b250LXN0b3Atd3JpZ2h0c3ZpbGxlLWJlYWNoLXNhbmQtcHJvamVjdC_SAQA?oc=5',\n",
       " 'https://news.google.com/__i/rss/rd/articles/CBMiW2h0dHBzOi8vcGwudXNlbWJhc3N5Lmdvdi92aXNhcy9odW1hbml0YXJpYW4tYXNzaXN0YW5jZS1hbmQtdmlzYS1pbmZvcm1hdGlvbi1mb3ItdWtyYWluaWFucy_SAQA?oc=5',\n",
       " 'https://news.google.com/__i/rss/rd/articles/CBMiWWh0dHA6Ly93d3cuc2l4dGh0b25lLmNvbS9uZXdzLzEwMDY3ODgvY2FuLWRlc2lnbmF0ZWQtcG9ydHMtZml4LWNoaW5hcy1vdmVyZmlzaGluZy1wcm9ibGVt0gEA?oc=5',\n",
       " 'https://news.google.com/__i/rss/rd/articles/CBMiWWh0dHBzOi8vd3d3LmNiYy5jYS9uZXdzL2J1c2luZXNzL3dhbG1hcnQtZnJhdWR1bGVudC1vcmRlci1vbmxpbmUtYWNjb3VudC1oYWNrZWQtMS42MzUzMDE20gEA?oc=5',\n",
       " 'https://news.google.com/__i/rss/rd/articles/CBMiWWh0dHBzOi8vdGhlZGlwbG9tYXQuY29tLzIwMjIvMDYvdGhleS1vd24tdGhlLW9jZWFuLWd3YWRhcnMtc3RydWdnbGUtd2l0aC1pbGxlZ2FsLWZpc2hpbmcv0gEA?oc=5',\n",
       " 'https://news.google.com/__i/rss/rd/articles/CBMiWmh0dHBzOi8vY3Jvc3NjdXQuY29tL2VxdWl0eS8yMDIzLzAxL2hvdy1vbmUteWFrYW1hLW5hdGlvbi1maXNoZXJtYW4taW5oZXJpdGVkLWZpZ2h0LXNhbG1vbtIBAA?oc=5',\n",
       " 'https://news.google.com/__i/rss/rd/articles/CBMiWmh0dHBzOi8vd3d3LmF0bGFudGljY291bmNpbC5vcmcvYmxvZ3MvaXJhbnNvdXJjZS9jaGluYS1pcy1zdGlsbC1icmltbWluZy13aXRoLWlyYW5pYW4tb2lsL9IBAA?oc=5',\n",
       " 'https://news.google.com/__i/rss/rd/articles/CBMiWmh0dHBzOi8vd3d3LndpcmVkMmZpc2guY29tL2JvYXRzLW1haW50ZW5hbmNlL2JlaGluZC10aGUtc2NlbmVzLW9mLW15LXNrZWV0ZXItengxNTAtcmVidWlsZNIBAA?oc=5',\n",
       " 'https://news.google.com/__i/rss/rd/articles/CBMiX2h0dHBzOi8vbmV3cy5tYXJ5bGFuZC5nb3YvZG5yLzIwMjIvMDkvMjMvbWFyeWxhbmQtc3RhdGUtcmVjb3JkLXN3b3JkZmlzaC1jYXVnaHQtb2ZmLW9jZWFuLWNpdHkv0gEA?oc=5',\n",
       " 'https://news.google.com/__i/rss/rd/articles/CBMiXGh0dHBzOi8vd3d3Lm9udGhld2F0ZXIuY29tL2Zpc2hpbmctcmVwb3J0cy8yMDIyLzEwL2Nvbm5lY3RpY3V0LWZpc2hpbmctcmVwb3J0LW9jdG9iZXItNi0yMDIy0gEA?oc=5',\n",
       " 'https://news.google.com/__i/rss/rd/articles/CBMiXWh0dHBzOi8vc3BsYXNoMjQ3LmNvbS9uZWFybHktODAwLWFuaW1hbHMtZGllLWluLWJ1cmVhdWNyYXRpYy1zcGF0LWJldHdlZW4tZnJhbmNlLWFuZC1hbGdlcmlhL9IBAA?oc=5',\n",
       " 'https://news.google.com/__i/rss/rd/articles/CBMiXWh0dHBzOi8vd3d3Lm9udGhld2F0ZXIuY29tL2Zpc2hpbmctcmVwb3J0cy8yMDIyLzEwL2Nvbm5lY3RpY3V0LWZpc2hpbmctcmVwb3J0LW9jdG9iZXItMjctMjAyMtIBAA?oc=5',\n",
       " 'https://news.google.com/__i/rss/rd/articles/CBMiXWh0dHBzOi8vd3d3LmZpc2hlcmllcy5ub2FhLmdvdi9mZWF0dXJlLXN0b3J5L3NpeC1lbmRhbmdlcmVkLW1hcmluZS1hbmltYWxzLXlvdS1taWdodC1ub3Qta25vd9IBAA?oc=5',\n",
       " 'https://news.google.com/__i/rss/rd/articles/CBMiXmh0dHBzOi8vbmV3cy5tYXJ5bGFuZC5nb3YvZG5yLzIwMjIvMDYvMDcvc3RhdGUtcmVjb3JkLWNvbW1vbi1jYXJwLWNhdWdodC1pbi1zdXNxdWVoYW5uYS1mbGF0cy_SAQA?oc=5',\n",
       " 'https://news.google.com/__i/rss/rd/articles/CBMiXmh0dHBzOi8vd3d3LmFiYy5uZXQuYXUvbmV3cy8yMDIzLTAxLTI2L25zdy1mdWdpdGl2ZS1mb3VuZC1pbi1odWxsLW9mLW91dGJvdW5kLXlhY2h0LS8xMDE4OTQ2NTLSAShodHRwczovL2FtcC5hYmMubmV0LmF1L2FydGljbGUvMTAxODk0NjUy?oc=5/',\n",
       " 'https://news.google.com/__i/rss/rd/articles/CBMiXmh0dHBzOi8vd3d3LmhlYWx0aC5oYXJ2YXJkLmVkdS9ibG9nL2hvdy10by1zdGF5LXN0cm9uZy1hbmQtY29vcmRpbmF0ZWQtYXMteW91LWFnZS0yMDIxMTIwMjI2NTHSAQA?oc=5',\n",
       " 'https://news.google.com/__i/rss/rd/articles/CBMiY2h0dHBzOi8vd3d3LndpcmVkMmZpc2guY29tL29waW5pb25zLXBoaWxvc29waGllcy9sYXRpdHVkZS10aGUtYmVzdC1maXNoaW5nLWxlc3Nvbi1pdmUtZXZlci1yZWNlaXZlZNIBAA?oc=5',\n",
       " 'https://news.google.com/__i/rss/rd/articles/CBMiYGh0dHBzOi8vd3d3LnBicy5vcmcvbmV3c2hvdXIvd29ybGQvc3lyaWFuLXJlZnVnZWVzLWZhY2UtcXVpY2stZGVwb3J0YXRpb24tYWZ0ZXItcmVhY2hpbmctbGViYW5vbtIBZGh0dHBzOi8vd3d3LnBicy5vcmcvbmV3c2hvdXIvYW1wL3dvcmxkL3N5cmlhbi1yZWZ1Z2Vlcy1mYWNlLXF1aWNrLWRlcG9ydGF0aW9uLWFmdGVyLXJlYWNoaW5nLWxlYmFub24?oc=5',\n",
       " 'https://news.google.com/__i/rss/rd/articles/CBMiYGh0dHBzOi8vd3d3LnRpbWVzaGlnaGVyZWR1Y2F0aW9uLmNvbS9uZXdzL2luZGlnZW5vdXMtcmVzZWFyY2gtY2F0Y2hpbmctYXVzdHJhbGlhLWFuZC1uZXctemVhbGFuZNIBAA?oc=5',\n",
       " 'https://news.google.com/__i/rss/rd/articles/CBMiYWh0dHBzOi8vbmV3cy5tYXJ5bGFuZC5nb3YvZG5yLzIwMjIvMDkvMjMvbWFyeWxhbmQtc3RhdGUtcmVjb3JkLWFsYmFjb3JlLWNhdWdodC1pbi1hdGxhbnRpYy1vY2Vhbi_SAQA?oc=5',\n",
       " 'https://news.google.com/__i/rss/rd/articles/CBMiYmh0dHBzOi8vd3d3Lm9jY3JwLm9yZy9lbi9kYWlseS8xNjk2My1yZXBvcnQtd2VzdC1hZnJpY2EtaXMtdGhlLWdsb2JhbC1lcGljZW50ZXItb2YtaWxsZWdhbC1maXNoaW5n0gEA?oc=5',\n",
       " 'https://news.google.com/__i/rss/rd/articles/CBMiYmh0dHBzOi8vd3d3LmFsamF6ZWVyYS5jb20vbmV3cy8yMDIyLzQvMTUvZGVzcGl0ZS13YXItYmFuLXJ1c3NpYW4tc2VhZm9vZC1jb3VsZC1lbnRlci10aGUtdXMtYW55d2F50gEA?oc=5',\n",
       " 'https://news.google.com/__i/rss/rd/articles/CBMiYmh0dHBzOi8vd3d3Lmp1c3RpY2UuZ292L29wYS9wci9jb25zcGlyYXRvcnMtc2VudGVuY2VkLW11bHRpbWlsbGlvbi1kb2xsYXItcmVwdGlsZS1zbXVnZ2xpbmctc2NoZW1l0gEA?oc=5',\n",
       " 'https://news.google.com/__i/rss/rd/articles/CBMiZ2h0dHBzOi8vbWFyaXRpbWUtZXhlY3V0aXZlLmNvbS9hcnRpY2xlL3Utcy1jb2FzdC1ndWFyZC1idXN0cy1hbm90aGVyLXR1bmEtYm9hdC1mb3Itam9uZXMtYWN0LXZpb2xhdGlvbnPSAQA?oc=5',\n",
       " 'https://news.google.com/__i/rss/rd/articles/CBMiZ2h0dHBzOi8vd3d3LnRpbWVzb2Zpc3JhZWwuY29tL2dhbnR6LWlyYW5zLW1hcml0aW1lLWFjdGl2aXR5LWluLXJlZC1zZWEtaXMtbW9zdC1zaWduaWZpY2FudC1pbi1hLWRlY2FkZS_SAQA?oc=5/',\n",
       " 'https://news.google.com/__i/rss/rd/articles/CBMiZGh0dHBzOi8vd3d3LmNwci5vcmcvMjAyMS8wMi8yNS91bmVtcGxveW1lbnQtZnJhdWQtY29sb3JhZG8tcGFuZGVtaWMtZmFrZS1jaGVtaXN0cy1jYXNoaWVycy1kZW50aXN0cy_SAQA?oc=5',\n",
       " 'https://news.google.com/__i/rss/rd/articles/CBMiZWh0dHBzOi8vY29uc3VtZXIuZnRjLmdvdi9jb25zdW1lci1hbGVydHMvMjAyMi8wNi9zY2FtbWVycy1wcmV0ZW5kLWJlLXVzLWN1c3RvbXMtYW5kLWJvcmRlci1wcm90ZWN0aW9u0gEA?oc=5',\n",
       " 'https://news.google.com/__i/rss/rd/articles/CBMiZWh0dHBzOi8vd3d3Lm5hdGlvbmFsZmlzaGVybWFuLmNvbS9ub3J0aGVhc3QvYmx1ZS1oYXJ2ZXN0LWNsb3Nlcy1vbi1yYWZhZWxzLW5ldy1iZWRmb3JkLWJvYXRzLXBlcm1pdHMv0gEA?oc=5',\n",
       " 'https://news.google.com/__i/rss/rd/articles/CBMiZWh0dHBzOi8vd3d3LmNsaW1hdGVjaGFuZ2VuZXdzLmNvbS8yMDIyLzExLzEzL29pbC1hbmQtZ2FzLXRyYWRlLXNob3ctcHJvbW90ZXMtY2FyYm9uLWNhcHR1cmUtYXQtY29wMjcv0gEA?oc=5',\n",
       " 'https://news.google.com/__i/rss/rd/articles/CBMiZWh0dHBzOi8vd3d3LmxhdGltZXMuY29tL2NhbGlmb3JuaWEvbmV3c2xldHRlci8yMDIyLTAxLTExL3JvYmVydC1kdXJzdC10cmlhbC1kZWFkLWVzc2VudGlhbC1jYWxpZm9ybmlh0gEA?oc=5',\n",
       " 'https://news.google.com/__i/rss/rd/articles/CBMiZWh0dHBzOi8vd3d3LnRoZWd1YXJkaWFuLmNvbS9idXNpbmVzcy8yMDIyL2ZlYi8yMS9hYmFuZG9uZWQtYnVybmluZy1zaGlwLWhhZC00MDBtLWNhcmdvLW9mLWx1eHVyeS1jYXJz0gEA?oc=5',\n",
       " 'https://news.google.com/__i/rss/rd/articles/CBMiZWh0dHBzOi8vd3d3LndsZi5sb3Vpc2lhbmEuZ292L25ld3MvdHdvLW1lbi1hcnJlc3RlZC1mb3ItaGFyYXNzbWVudC1vZi1maXNoZXJtZW4taW4tcGxhcXVlbWluZXMtcGFyaXNo0gEA?oc=5',\n",
       " 'https://news.google.com/__i/rss/rd/articles/CBMiZmh0dHBzOi8vYWJjbmV3cy5nby5jb20vVVMvYW5nZXItcmV2ZW5nZS1yZXNlbnRtZW50LWRlZXBlci1kcml2ZXMtaHVzYmFuZHMta2lsbC13aXZlcy9zdG9yeT9pZD05NjUzMjIzOdIBamh0dHBzOi8vYWJjbmV3cy5nby5jb20vYW1wL1VTL2FuZ2VyLXJldmVuZ2UtcmVzZW50bWVudC1kZWVwZXItZHJpdmVzLWh1c2JhbmRzLWtpbGwtd2l2ZXMvc3Rvcnk_aWQ9OTY1MzIyMzk?oc=5/',\n",
       " 'https://news.google.com/__i/rss/rd/articles/CBMiZmh0dHBzOi8vZGlhbG9nby1hbWVyaWNhcy5jb20vYXJ0aWNsZXMvZmlzaGluZy1mb3Itc2VjdXJpdHktdGFraW5nLW9uLWlsbGVnYWwtZmlzaGluZy1pbi1sYXRpbi1hbWVyaWNhL9IBAA?oc=5',\n",
       " 'https://news.google.com/__i/rss/rd/articles/CBMia2h0dHBzOi8vd3d3LmNhdG8ub3JnL3BvbGljeS1hbmFseXNpcy9lbnRyZXByZW5ldXJzLXJlZ3VsYXRpb25zLXJlbW92aW5nLXN0YXRlLWxvY2FsLWJhcnJpZXJzLW5ldy1idXNpbmVzc2Vz0gEA?oc=5',\n",
       " 'https://news.google.com/__i/rss/rd/articles/CBMiaGh0dHBzOi8vd3d3LmFiYy5uZXQuYXUvbmV3cy8yMDI0LTAyLTA0L251bWJlci1vZi1saXZlc3RvY2stZGVhZC1vbi1saXZlLWV4cG9ydC1zaGlwLW12LWJhaGlqYWgvMTAzNDIwOTAw0gEA',\n",
       " 'https://news.google.com/__i/rss/rd/articles/CBMiaGh0dHBzOi8vd3d3LnRoZWd1YXJkaWFuLmNvbS9lbnZpcm9ubWVudC8yMDIyL29jdC8yNi9pbGxlZ2FsLWZpc2hpbmctYmlsbGlvbnMtbG9zc2VzLWRldmVsb3BpbmctY291bnRyaWVz0gEA?oc=5',\n",
       " 'https://news.google.com/__i/rss/rd/articles/CBMiaWh0dHBzOi8vd3d3LmxhdGltZXMuY29tL2NhbGlmb3JuaWEvc3RvcnkvMjAyMi0wOS0zMC9zYWlsb3ItYWNxdWl0dGVkLW9mLWFyc29uLWluLXNhbi1kaWVnby1uYXZ5LXNoaXAtZmlyZdIBc2h0dHBzOi8vd3d3LmxhdGltZXMuY29tL2NhbGlmb3JuaWEvc3RvcnkvMjAyMi0wOS0zMC9zYWlsb3ItYWNxdWl0dGVkLW9mLWFyc29uLWluLXNhbi1kaWVnby1uYXZ5LXNoaXAtZmlyZT9fYW1wPXRydWU?oc=5',\n",
       " 'https://news.google.com/__i/rss/rd/articles/CBMiaWh0dHBzOi8vd3d3LnJhbmQub3JnL3B1YnMvY29tbWVudGFyeS8yMDI0LzAyL2l1dS1maXNoaW5nLWEtbWFyaXRpbWUtc2VjdXJpdHktdGhyZWF0LXJlcXVpcmluZy11bmlxdWUuaHRtbNIBAA',\n",
       " 'https://news.google.com/__i/rss/rd/articles/CBMiamh0dHBzOi8vbmV3cy5tb25nYWJheS5jb20vMjAyNC8wMi9hbm51YWwtc291dGgtcGFjaWZpYy1maXNoZXJpZXMtbWVldGluZy1uZXRzLWJvdHRvbS10cmF3bGluZy1jb250cm92ZXJzeS_SAQA',\n",
       " 'https://news.google.com/__i/rss/rd/articles/CBMiamh0dHBzOi8vc2YuZWF0ZXIuY29tLzIwMjEvMTEvMTUvMjI3ODM5MTAvaG93LXRvLWNhdGNoLWR1bmdlbmVzcy1jcmFiLWJheS1hcmVhLXRha3Uta29uZG8tb3V0ZG9vci1jaGVmLWxpZmXSAQA?oc=5',\n",
       " 'https://news.google.com/__i/rss/rd/articles/CBMib2h0dHBzOi8vc2NpZW5jZS5zbGFzaGRvdC5vcmcvc3RvcnkvMjIvMTAvMjcvMjIyMjUxL3NwYWNleC1iZWNvbWVzLW5hc2FzLXNlY29uZC1sYXJnZXN0LXZlbmRvci1zdXJwYXNzaW5nLWJvZWluZ9IBAA?oc=5',\n",
       " 'https://news.google.com/__i/rss/rd/articles/CBMib2h0dHBzOi8vc2VhcG93ZXJtYWdhemluZS5vcmcvY29hc3QtZ3VhcmQtY3V0dGVyLXNwZW5jZXItcmV0dXJucy10by1wb3J0c21vdXRoLWFmdGVyLXBhdHJvbGxpbmctZWFzdGVybi1wYWNpZmljL9IBAA?oc=5',\n",
       " 'https://news.google.com/__i/rss/rd/articles/CBMib2h0dHBzOi8vd3d3LndsZi5sb3Vpc2lhbmEuZ292L25ld3MvbGR3Zi1ob2xkcy1vcGVuaW5nLW9mLWxha2UtY2hhcmxlcy1vZmZpY2UtdGhhdC13aWxsLWJlbmVmaXQtbXVsdGlwYXJpc2gtYXJlYdIBAA?oc=5',\n",
       " 'https://news.google.com/__i/rss/rd/articles/CBMibGh0dHBzOi8vd3d3Lmp1c3RpY2UuZ292L29wYS9wci9nbGVuY29yZS1lbnRlcmVkLWd1aWx0eS1wbGVhcy1mb3JlaWduLWJyaWJlcnktYW5kLW1hcmtldC1tYW5pcHVsYXRpb24tc2NoZW1lc9IBAA?oc=5',\n",
       " 'https://news.google.com/__i/rss/rd/articles/CBMibGh0dHBzOi8vd3d3LnRoZWd1YXJkaWFuLmNvbS93b3JsZC8yMDIyL2p1bC8wNC9zcGFuaXNoLXBvbGljZS1zZWl6ZS11bmRlcndhdGVyLWRyb25lcy1kZXNpZ25lZC10by1jYXJyeS1kcnVnc9IBAA?oc=5',\n",
       " 'https://news.google.com/__i/rss/rd/articles/CBMibWh0dHBzOi8vd3d3LnNlYWZvb2Rzb3VyY2UuY29tL25ld3Mvc3VwcGx5LXRyYWRlL29wLWVkLXNlYWZvb2Qtc3VzdGFpbmFiaWxpdHktY2xhaW1zLWZhbGwtdW5kZXItbGVnYWwtc2NydXRpbnnSAQA?oc=5',\n",
       " 'https://news.google.com/__i/rss/rd/articles/CBMibmh0dHBzOi8vd3d3Lm1hcml0aW1lLWV4ZWN1dGl2ZS5jb20vYXJ0aWNsZS90YW5rZXItYWdyb3VuZC1vZmYtc2luZ2Fwb3JlLW1heS1oYXZlLWJlZW4tc211Z2dsaW5nLXZlbmV6dWVsYW4tb2ls0gEA?oc=5',\n",
       " 'https://news.google.com/__i/rss/rd/articles/CBMicGh0dHBzOi8vbWFyaXRpbWUtZXhlY3V0aXZlLmNvbS9hcnRpY2xlL3JlcG9ydC1kZXRhaWxzLWNvbmZ1c2VkLWFuZC1jaGFvdGljLXJlc2N1ZS1mb3Itbm9ydGgtc2VhLWNhci1jYXJyaWVyLWZpcmXSAQA',\n",
       " 'https://news.google.com/__i/rss/rd/articles/CBMicGh0dHBzOi8vd3d3LmNvbnN1bWVycmVwb3J0cy5vcmcvaGVhbHRoL2VsZWN0cmljLWJpa2VzL2VsZWN0cmljLWJpa2UtZmlyZXMtYW5kLWxpdGhpdW0taW9uLWJhdHRlcmllcy1hNDYzMjQ4OTkwMi_SAQA?oc=5',\n",
       " 'https://news.google.com/__i/rss/rd/articles/CBMicGh0dHBzOi8vd3d3LnByb3B1YmxpY2Eub3JnL2FydGljbGUvdXMtc2VuYXRvcnMtZGVtYW5kLWZlZGVyYWwtc2NydXRpbnktb2YtcHJpdmF0ZS1lcXVpdHlzLWluY3Vyc2lvbi1pbnRvLWZpc2hpbmfSAQA?oc=5/',\n",
       " 'https://news.google.com/__i/rss/rd/articles/CBMicWh0dHBzOi8vd29sZnN0cmVldC5jb20vMjAyMS8wOC8yMC90aGUtbW9zdC1zcGxlbmRpZC1ob3VzaW5nLWJ1YmJsZXMtaW4tY2FuYWRhLWZhY2UtdGhlLWJhbmstb2YtY2FuYWRhcy1lbmQtb2YtcWUv0gEA?oc=5',\n",
       " 'https://news.google.com/__i/rss/rd/articles/CBMicWh0dHBzOi8vd3d3LmxhdGltZXMuY29tL3dvcmxkLW5hdGlvbi9zdG9yeS8yMDIyLTAxLTIzL3VzLWRldGFpbnMtc211Z2dsaW5nLXNoaXAtdWstc2VpemVzLWRydWdzLWluLW1pZGVhc3Qtd2F0ZXJz0gF7aHR0cHM6Ly93d3cubGF0aW1lcy5jb20vd29ybGQtbmF0aW9uL3N0b3J5LzIwMjItMDEtMjMvdXMtZGV0YWlucy1zbXVnZ2xpbmctc2hpcC11ay1zZWl6ZXMtZHJ1Z3MtaW4tbWlkZWFzdC13YXRlcnM_X2FtcD10cnVl?oc=5',\n",
       " 'https://news.google.com/__i/rss/rd/articles/CBMicWh0dHBzOi8vd3d3LnBlYWNlYXJjaG5ld3MuY29tL25ld3MvaWxsZWdhbC1jYW5hZGlhbi1jcmFiLXRyYXBzLWZpc2hpbmctZ2Vhci1zZWl6ZWQtaW4tdS1zLXdhdGVycy1uZWFyLXdoaXRlLXJvY2sv0gEA?oc=5',\n",
       " 'https://news.google.com/__i/rss/rd/articles/CBMicmh0dHBzOi8vc2NpZW5jZS50aGV3aXJlLmluL2Vudmlyb25tZW50L2lzLWV1cm9wZS1wdXJzdWluZy1hLW5lby1jb2xvbmlhbC1wbHVuZGVyLW9mLXJlc291cmNlcy1pbi10aGUtaW5kaWFuLW9jZWFuL9IBAA?oc=5',\n",
       " 'https://news.google.com/__i/rss/rd/articles/CBMicmh0dHBzOi8vd3d3LnRoZWd1YXJkaWFuLmNvbS91ay1uZXdzLzIwMjIvanVsLzAxL3BvcHVsYXRpb24tZXhwbG9zaW9uLW9jdG9wdXMtYm9vbS1wcm9tcHRzLWpveS1hbmQtY29uY2Vybi1jb3Jud2FsbNIBAA?oc=5',\n",
       " 'https://news.google.com/__i/rss/rd/articles/CBMicmh0dHBzOi8vd3d3LnRoZWd1YXJkaWFuLmNvbS9idXNpbmVzcy8yMDIyL21heS8xNC9maXNoLWZpbmdlcnMtY29udGFpbmluZy1ydXNzaWFuLXdoaXRlZmlzaC1zdGlsbC1vbi1zYWxlLWFjcm9zcy11a9IBAA?oc=5',\n",
       " 'https://news.google.com/__i/rss/rd/articles/CBMicmh0dHBzOi8vdGhlc3Bpbm9mZi5jby5uei9tdXNpYy8xNi0xMS0yMDIwL2FsbC1oaXRzLW5vLWdpbW1pY2tzLXRoZS1zcGlub2ZmLXJldmlld3MtdGhlLWFvdGVhcm9hLW11c2ljLWF3YXJkcy0yMDIwL9IBdmh0dHBzOi8vdGhlc3Bpbm9mZi5jby5uei9tdXNpYy8xNi0xMS0yMDIwL2FsbC1oaXRzLW5vLWdpbW1pY2tzLXRoZS1zcGlub2ZmLXJldmlld3MtdGhlLWFvdGVhcm9hLW11c2ljLWF3YXJkcy0yMDIwLz9hbXA?oc=5',\n",
       " 'https://news.google.com/__i/rss/rd/articles/CBMidGh0dHBzOi8vd3d3LmZsb3JpZGFzcG9ydHNtYW4uY29tL2VkaXRvcmlhbC9tdWxsZXQtMTAxLWV2ZXJ5dGhpbmcteW91LW5lZWQtdG8ta25vdy1hYm91dC11c2luZy1tdWxsZXQtZm9yLWJhaXQvNDY1Njg50gEA?oc=5',\n",
       " 'https://news.google.com/__i/rss/rd/articles/CBMidGh0dHBzOi8vd3d3Lmp1c3RpY2UuZ292L29wYS9wci9jcmVkaXQtc3Vpc3NlLXJlc29sdmVzLWZyYXVkdWxlbnQtbW96YW1iaXF1ZS1sb2FuLWNhc2UtNTQ3LW1pbGxpb24tY29vcmRpbmF0ZWQtZ2xvYmFs0gEA?oc=5',\n",
       " 'https://news.google.com/__i/rss/rd/articles/CBMidWh0dHBzOi8vcHVibGljaW50ZWdyaXR5Lm9yZy9pbmVxdWFsaXR5LXBvdmVydHktb3Bwb3J0dW5pdHkvd29ya2Vycy1yaWdodHMvY2hlYXRlZC1hdC13b3JrL3VzcHMtY2hlYXRlZC1tYWlsLWNhcnJpZXJzL9IBAA?oc=5',\n",
       " 'https://news.google.com/__i/rss/rd/articles/CBMidWh0dHBzOi8vd3d3LmN0dm5ld3MuY2EvaGVhbHRoL2Nvcm9uYXZpcnVzLzNyZC1mbG9yaWRhLWJhc2VkLWNydWlzZS1zaGlwLWhhcy1vdXRicmVhay1zdGF0ZS1jYXNlcy1oaXQtcmVjb3JkLTEuNTcxOTQwNNIBAA?oc=5',\n",
       " 'https://news.google.com/__i/rss/rd/articles/CBMidWh0dHBzOi8vd3d3Lmp1c3RpY2UuZ292L29wYS9wci90d2VudHktdHdvLWNoYXJnZWQtY29ubmVjdGlvbi1tb3JlLTExLW1pbGxpb24tcGF5Y2hlY2stcHJvdGVjdGlvbi1wcm9ncmFtLWZyYXVkLXNjaGVtZdIBAA?oc=5',\n",
       " 'https://news.google.com/__i/rss/rd/articles/CBMidWh0dHBzOi8vd3d3LnRoZWd1YXJkaWFuLmNvbS9saWZlYW5kc3R5bGUvMjAyMi9qdWwvMTYvc25vcmluZy13YXMtcnVpbmluZy1teS1tYXJyaWFnZS1oZXJlcy1ob3ctaS1maW5hbGx5LWN1cmVkLW15c2VsZtIBAA?oc=5',\n",
       " 'https://news.google.com/__i/rss/rd/articles/CBMidmh0dHBzOi8vd3d3Lm5wci5vcmcvMjAyMi8xMC8xNC8xMTI5MDE4MDc2L2Zpc2hpbmctdG91cm5hbWVudC1jaGVhdGluZy1mZWxvbnktY2hhcmdlcy1ydW55YW4tY29taW5za3ktbGFrZS1lcmllLXdhbGxleWXSAQA?oc=5',\n",
       " 'https://news.google.com/__i/rss/rd/articles/CBMie2h0dHBzOi8vd3d3Lm9jY3JwLm9yZy9lbi8yNy1jY3dhdGNoL2NjLXdhdGNoLWJyaWVmcy8xMzQ5OC1pbnRlcnBvbC1pbGxlZ2FsLWZpc2hpbmctc3Bhd25zLWEtd2lkZS1uZXR3b3JrLW9mLW9yZ2FuaXplZC1jcmltZdIBAA?oc=5',\n",
       " 'https://news.google.com/__i/rss/rd/articles/CBMie2h0dHBzOi8vd3d3LmxvbWJhcmRvZGllci5jb20vY29udGVudHMvY29ycG9yYXRlLW5ld3MvcmVzcG9uc2libGUtY2FwaXRhbC8yMDIyL29jdG9iZXIvaG93LXRlY2gtaXMtYmVpbmctdXNlZC10by1rZWVwLWYuaHRtbNIBAA?oc=5',\n",
       " 'https://news.google.com/__i/rss/rd/articles/CBMiemh0dHBzOi8vd3d3Lm5iY25ld3MuY29tL2hlYWx0aC9oZWFsdGgtbmV3cy9yb2JvdGljLWRldmljZS1idXJuZWQtd29tYW5zLXNtYWxsLWludGVzdGluZS1zdXJnZXJ5LWxhd3N1aXQtYWxsZWdlcy1yY25hMTM3OTk40gEA',\n",
       " 'https://news.google.com/__i/rss/rd/articles/CBMiemh0dHBzOi8vd3d3LmFwcGxlLmNvbS9uZXdzcm9vbS8yMDIyLzA2L2FwcC1zdG9yZS1zdG9wcGVkLW5lYXJseS1vbmUtcG9pbnQtZml2ZS1iaWxsaW9uLWluLWZyYXVkdWxlbnQtdHJhbnNhY3Rpb25zLWluLTIwMjEv0gEA?oc=5',\n",
       " 'https://news.google.com/__i/rss/rd/articles/CBMiemh0dHBzOi8vd3d3LnRoZWd1YXJkaWFuLmNvbS93b3JsZC8yMDIyL25vdi8yMy90ZXJtaW5hbC1tYW4tbGl2ZWQtaW4tcGFyaXMtYWlycG9ydC0xOC15ZWFycy1pbGwtbmV2ZXItZm9yZ2V0LXdlZWtzLXdpdGgtaGlt0gEA?oc=5',\n",
       " 'https://news.google.com/__i/rss/rd/articles/CBMif2h0dHBzOi8vd3d3LnNlYWZvb2Rzb3VyY2UuY29tL25ld3MvZW52aXJvbm1lbnQtc3VzdGFpbmFiaWxpdHkvc2t5bGlnaHRzLXRlZC1zY2htaXR0LXRlY2hub2xvZ3ktY2FuLXR1cm4tdGlkZS1vZi13YXItYWdhaW5zdC1pdXXSAQA?oc=5/',\n",
       " 'https://news.google.com/__i/rss/rd/articles/CBMifWh0dHBzOi8vd3d3LnRoZWd1YXJkaWFuLmNvbS9lbnZpcm9ubWVudC8yMDIyL2p1bi8yNC91cy1hY2N1c2VzLXVrLW9mLWV4cGxvaXRpbmctcnVzc2lhLXRlbnNpb25zLXRvLWZpc2gtaGlnaGx5LXByaXplZC1zcGVjaWVz0gEA?oc=5',\n",
       " 'https://news.google.com/__i/rss/rd/articles/CBMihQFodHRwczovL3d3dy5mYmkuZ292L2NvbnRhY3QtdXMvZmllbGQtb2ZmaWNlcy9iYWx0aW1vcmUvbmV3cy9mZWRlcmFsLWp1cnktY29udmljdHMtZm9ybWVyLWJhbHRpbW9yZS1jaXR5LXN0YXRlcy1hdHRvcm5leS1tYXJpbHluLW1vc2J50gEA',\n",
       " 'https://news.google.com/__i/rss/rd/articles/CBMihQFodHRwczovL3d3dy5wZXd0cnVzdHMub3JnL2VuL3Jlc2VhcmNoLWFuZC1hbmFseXNpcy9yZXBvcnRzLzIwMjEvMTAvdGhlLXJvbGUtb2YtbGFiLWRldmVsb3BlZC10ZXN0cy1pbi10aGUtaW4tdml0cm8tZGlhZ25vc3RpY3MtbWFya2V00gEA?oc=5',\n",
       " 'https://news.google.com/__i/rss/rd/articles/CBMihwFodHRwczovL3d3dy50aGVndWFyZGlhbi5jb20vZW52aXJvbm1lbnQvMjAyMi9tYXIvMDIvZW52aXJvbm1lbnQtYWdlbmN5LWVuZ2xhbmQtZG93bmdyYWRpbmctcHJvc2VjdXRpb25zLXNlcmlvdXMtcG9sbHV0aW9uLWxlYWtlZC1yZXBvcnTSAQA?oc=5',\n",
       " 'https://news.google.com/__i/rss/rd/articles/CBMiiwFodHRwczovL3d3dy5wZXd0cnVzdHMub3JnL2VuL3Jlc2VhcmNoLWFuZC1hbmFseXNpcy9pc3N1ZS1icmllZnMvMjAyMi8xMS9tb3JlLXRoYW4tMTAwMDAwLWZpc2hpbmctcmVsYXRlZC1kZWF0aHMtb2NjdXItZWFjaC15ZWFyLXN0dWR5LWZpbmRz0gEA?oc=5',\n",
       " 'https://news.google.com/__i/rss/rd/articles/CBMijQFodHRwczovL3d3dy5mb3JiZXMuY29tL3NpdGVzL21lbGlzc2FjcmlzdGluYW1hcnF1ZXovMjAyMi8xMC8xNy9jYXRjaC1hbmQtcmVsZWFzZS1zaGFyay1maXNoaW5nLW1heS1oYXZlLXBoeXNpb2xvZ2ljYWwtYW5kLWJlaGF2aW9yYWwtaW1wYWN0cy_SAQA?oc=5',\n",
       " 'https://news.google.com/__i/rss/rd/articles/CBMikwFodHRwczovL3d3dy5zZWFmb29kc291cmNlLmNvbS9uZXdzL2Vudmlyb25tZW50LXN1c3RhaW5hYmlsaXR5L2lzc2YtdHVuYS1zdG9jay1zdGF0dXMtcmVwb3J0LXNob3dzLWluY3JlYXNlLWluLWNhdGNoLWxpdHRsZS1jaGFuZ2UtaW4tc3VzdGFpbmFiaWxpdHnSAQA?oc=5',\n",
       " 'https://news.google.com/__i/rss/rd/articles/CBMirwFodHRwczovL3d3dy50aGVzdW5jaHJvbmljbGUuY29tL3Nwb3J0cy9sb2NhbF9zcG9ydHMvZGF2ZS1tb250aS13aWxsLXByb3Bvc2VkLXRhdXRvZy1yZWd1bGF0aW9ucy13b3JrLXRvLWtlZXAtc3BlY2llcy10aHJpdmluZy9hcnRpY2xlXzdlZDQ4N2FiLWNiZGMtNTBmNy1hMzhlLWYzMzFlNGVhZWZmZS5odG1s0gEA?oc=5',\n",
       " 'https://news.google.com/__i/rss/rd/articles/CBMisAFodHRwczovL3d3dy50aGVjb2FzdGxhbmR0aW1lcy5jb20vMjAyMy8wMS8wMS9ydWxlcy1mb3ItY29tbWVyY2lhbC1hbmQtcmVjcmVhdGlvbmFsLWhhcnZlc3Qtb2Ytc2hhcmtzLXNldC1mb3ItMjAyMy8_dXRtX3NvdXJjZT1zaXRlJnV0bV9tZWRpdW09b3JnYW5pYyZ1dG1fY2FtcGFpZ249cmVjaXJjdWxhdGlvbtIBAA?oc=5',\n",
       " 'https://news.google.com/articles/CAIiENFhWzoOMljo_4Lvv7_dPF4qGQgEKhAIACoHCAowqtmECzDJyIEDMLf5gwY?hl=en-US&gl=US&ceid=US%3Aen',\n",
       " 'https://news.google.com/articles/CBMiLWh0dHBzOi8vd3d3LmNzbW9uaXRvci5jb20vRGFpbHkvMjAyMS8yMDIxMTIwMdIBAA?hl=en-GB&gl=GB&ceid=GB%3Aen',\n",
       " 'https://news.google.com/articles/CBMiV2h0dHBzOi8vdGhlc3Bpbm9mZi5jby5uei9zb2NpZXR5LzEwLTA1LTIwMjAvY292aWQtMTktbGl2ZS11cGRhdGVzLW1heS0xMC10d28tbmV3LWNhc2VzL9IBW2h0dHBzOi8vdGhlc3Bpbm9mZi5jby5uei9zb2NpZXR5LzEwLTA1LTIwMjAvY292aWQtMTktbGl2ZS11cGRhdGVzLW1heS0xMC10d28tbmV3LWNhc2VzLz9hbXA?hl=en-NZ&gl=NZ&ceid=NZ%3Aen',\n",
       " 'https://news.google.com/articles/CBMiVGh0dHA6Ly93d3cuc3R1ZmYuY28ubnovbmF0aW9uYWwvMTA1Mzc5NzQvQWxsZWdlZC1pbGxlZ2FsLWZpc2gtZXhwb3J0LWJ1c2luZXNzLWhvb2tlZNIBAA?hl=en-NZ&gl=NZ&ceid=NZ%3Aen',\n",
       " 'https://news.google.com/articles/CBMid2h0dHA6Ly93d3cuc3RhcmFkdmVydGlzZXIuY29tLzIwMTgvMDYvMTMvYnJlYWtpbmctbmV3cy9uYXRpb25hbC1zZWFmb29kLWRlYWxlci1zZWxscy1maXNoeS10YWxlLW9mLXN1c3RhaW5hYmxlLXNhc2hpbWkv0gEA',\n",
       " 'https://news.google.com/articles/CBMihgFodHRwczovL3d3dy5zZWFmb29kc291cmNlLmNvbS9uZXdzL2Zvb2Qtc2FmZXR5LWhlYWx0aC9taXNsYWJlbGluZy1hbi1pc3N1ZS1mb3Itc3BlY2llcy1ub3QtY292ZXJlZC11bmRlci1zaW1wLXVzLXN0dWR5LWJ5LW9jZWFuYS1maW5kc9IBAA?hl=en-US&gl=US&ceid=US%3Aen',\n",
       " 'https://news.google.com/rss/articles/CBMiMGh0dHBzOi8vcHVicy5hY3Mub3JnL2RvaS8xMC4xMDIxL2Fjcy5lc3QuOGIwMjEwONIBAA?oc=5',\n",
       " 'https://news.google.com/rss/articles/CBMiSmh0dHBzOi8vd3d3Lmpkc3VwcmEuY29tL2xlZ2FsbmV3cy9za2FkZGVuLWVuZXJneS1sYXctaGFuZGJvb2stdGhpcmQtNzc3NjMv0gEA?oc=5',\n",
       " 'https://news.google.com/rss/articles/CBMigAFodHRwczovL3d3dy51bmRlcmN1cnJlbnRuZXdzLmNvbS8yMDIzLzAyLzIxL3RleGFzLW1hbi1mYWNlcy1wb3NzaWJsZS1maW5lcy1qYWlsLWZvci1hbGxlZ2VkbHktZmFraW5nLWlkZW50aXR5LXRvLWZpc2gtaWxsZWdhbGx5L9IBAA?oc=5'}"
      ]
     },
     "execution_count": 179,
     "metadata": {},
     "output_type": "execute_result"
    }
   ],
   "source": [
    "links"
   ]
  },
  {
   "cell_type": "markdown",
   "metadata": {},
   "source": [
    "By inspection, the results here aren't what we would expect to see. ㅠㅡㅠ"
   ]
  },
  {
   "cell_type": "code",
   "execution_count": null,
   "metadata": {},
   "outputs": [],
   "source": []
  },
  {
   "cell_type": "code",
   "execution_count": null,
   "metadata": {},
   "outputs": [],
   "source": []
  }
 ],
 "metadata": {
  "kernelspec": {
   "display_name": "ncis",
   "language": "python",
   "name": "python3"
  },
  "language_info": {
   "codemirror_mode": {
    "name": "ipython",
    "version": 3
   },
   "file_extension": ".py",
   "mimetype": "text/x-python",
   "name": "python",
   "nbconvert_exporter": "python",
   "pygments_lexer": "ipython3",
   "version": "3.11.9"
  }
 },
 "nbformat": 4,
 "nbformat_minor": 2
}
